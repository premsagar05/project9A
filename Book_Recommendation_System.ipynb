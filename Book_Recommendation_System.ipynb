{
 "cells": [
  {
   "cell_type": "code",
   "execution_count": 1,
   "id": "e7b4214f",
   "metadata": {},
   "outputs": [],
   "source": [
    "import pickle\n",
    "import numpy as np\n",
    "import pandas as pd\n",
    "from pandas.api.types import is_numeric_dtype\n",
    "from sklearn.feature_extraction import DictVectorizer\n",
    "from sklearn.metrics.pairwise import cosine_similarity\n",
    "from sklearn.feature_extraction.text import TfidfVectorizer\n",
    "\n",
    "import warnings\n",
    "warnings.filterwarnings(\"ignore\")"
   ]
  },
  {
   "cell_type": "code",
   "execution_count": 2,
   "id": "58bf111b",
   "metadata": {},
   "outputs": [],
   "source": [
    "import numpy as np\n",
    "import pandas as pd\n",
    "from pandas.api.types import is_numeric_dtype\n",
    "from sklearn.feature_extraction import DictVectorizer\n",
    "from sklearn.metrics.pairwise import cosine_similarity\n",
    "\n",
    "import warnings\n",
    "warnings.filterwarnings(\"ignore\")\n",
    "user_data=pd.read_csv('Dataset/Users.csv',header=[0])\n",
    "book_data=pd.read_csv('Dataset/Books.csv',header=[0])\n",
    "ratings_data=pd.read_csv('Dataset/Ratings.csv',header=[0])\n",
    "#ratings_data=pd.read_csv('Dataset/Users.csv',header=[0])\n",
    "#book_data.describe()\n",
    "#book_data.describe()\n",
    "#ratings_data.describe()\n",
    "\n",
    "#print(book_data.head)\n",
    "#DATA CLEANING\n",
    "\n",
    "book_data.drop(['Image-URL-S', 'Image-URL-M', 'Image-URL-L'], axis=1, inplace=True)\n",
    "#book_data.head()"
   ]
  },
  {
   "cell_type": "code",
   "execution_count": 3,
   "id": "0328b6dc",
   "metadata": {},
   "outputs": [],
   "source": [
    "import numpy as np\n",
    "import pandas as pd\n",
    "from pandas.api.types import is_numeric_dtype\n",
    "from sklearn.feature_extraction import DictVectorizer\n",
    "from sklearn.metrics.pairwise import cosine_similarity\n",
    "\n",
    "import warnings\n",
    "warnings.filterwarnings(\"ignore\")\n",
    "user_data=pd.read_csv('Dataset/Users.csv',header=[0])\n",
    "book_data=pd.read_csv('Dataset/Books.csv',header=[0])\n",
    "ratings_data=pd.read_csv('Dataset/Ratings.csv',header=[0])\n",
    "#ratings_data=pd.read_csv('Dataset/Users.csv',header=[0])\n",
    "#book_data.describe()\n",
    "#book_data.describe()\n",
    "#ratings_data.describe()"
   ]
  },
  {
   "cell_type": "code",
   "execution_count": 18,
   "id": "990087a4",
   "metadata": {},
   "outputs": [
    {
     "name": "stdout",
     "output_type": "stream",
     "text": [
      "242135\n"
     ]
    }
   ],
   "source": [
    "print(len(book_data['Book-Title'].unique()));"
   ]
  },
  {
   "cell_type": "code",
   "execution_count": 14,
   "id": "1a4cc759",
   "metadata": {},
   "outputs": [
    {
     "name": "stdout",
     "output_type": "stream",
     "text": [
      "278858\n"
     ]
    }
   ],
   "source": [
    "print(len(user_data['User-ID'].unique()));\n",
    "#print(user_data.head());"
   ]
  },
  {
   "cell_type": "code",
   "execution_count": 17,
   "id": "c67a9bba",
   "metadata": {},
   "outputs": [
    {
     "name": "stdout",
     "output_type": "stream",
     "text": [
      "1149780\n"
     ]
    }
   ],
   "source": [
    "print(len(ratings_data['Book-Rating']>0));\n",
    "#print(ratings_data.head());"
   ]
  },
  {
   "cell_type": "code",
   "execution_count": 4,
   "id": "3961966e",
   "metadata": {},
   "outputs": [],
   "source": [
    "#print(book_data.head)\n",
    "#DATA CLEANING\n",
    "\n",
    "book_data.drop(['Image-URL-S', 'Image-URL-M', 'Image-URL-L'], axis=1, inplace=True)\n",
    "#book_data.head()"
   ]
  },
  {
   "cell_type": "code",
   "execution_count": 5,
   "id": "c9b73058",
   "metadata": {},
   "outputs": [
    {
     "data": {
      "text/plain": [
       "ISBN                   0\n",
       "Book-Title             0\n",
       "Book-Author            1\n",
       "Year-Of-Publication    0\n",
       "Publisher              2\n",
       "dtype: int64"
      ]
     },
     "execution_count": 5,
     "metadata": {},
     "output_type": "execute_result"
    }
   ],
   "source": [
    "book_data.isnull().sum() "
   ]
  },
  {
   "cell_type": "code",
   "execution_count": 6,
   "id": "07a40897",
   "metadata": {},
   "outputs": [
    {
     "data": {
      "text/html": [
       "<div>\n",
       "<style scoped>\n",
       "    .dataframe tbody tr th:only-of-type {\n",
       "        vertical-align: middle;\n",
       "    }\n",
       "\n",
       "    .dataframe tbody tr th {\n",
       "        vertical-align: top;\n",
       "    }\n",
       "\n",
       "    .dataframe thead th {\n",
       "        text-align: right;\n",
       "    }\n",
       "</style>\n",
       "<table border=\"1\" class=\"dataframe\">\n",
       "  <thead>\n",
       "    <tr style=\"text-align: right;\">\n",
       "      <th></th>\n",
       "      <th>ISBN</th>\n",
       "      <th>Book-Title</th>\n",
       "      <th>Book-Author</th>\n",
       "      <th>Year-Of-Publication</th>\n",
       "      <th>Publisher</th>\n",
       "    </tr>\n",
       "  </thead>\n",
       "  <tbody>\n",
       "    <tr>\n",
       "      <th>187689</th>\n",
       "      <td>9627982032</td>\n",
       "      <td>The Credit Suisse Guide to Managing Your Perso...</td>\n",
       "      <td>NaN</td>\n",
       "      <td>1995</td>\n",
       "      <td>Edinburgh Financial Publishing</td>\n",
       "    </tr>\n",
       "  </tbody>\n",
       "</table>\n",
       "</div>"
      ],
      "text/plain": [
       "              ISBN                                         Book-Title  \\\n",
       "187689  9627982032  The Credit Suisse Guide to Managing Your Perso...   \n",
       "\n",
       "       Book-Author Year-Of-Publication                       Publisher  \n",
       "187689         NaN                1995  Edinburgh Financial Publishing  "
      ]
     },
     "execution_count": 6,
     "metadata": {},
     "output_type": "execute_result"
    }
   ],
   "source": [
    "book_data.loc[book_data['Book-Author'].isnull(),:]"
   ]
  },
  {
   "cell_type": "code",
   "execution_count": 7,
   "id": "1e16560c",
   "metadata": {},
   "outputs": [
    {
     "data": {
      "text/html": [
       "<div>\n",
       "<style scoped>\n",
       "    .dataframe tbody tr th:only-of-type {\n",
       "        vertical-align: middle;\n",
       "    }\n",
       "\n",
       "    .dataframe tbody tr th {\n",
       "        vertical-align: top;\n",
       "    }\n",
       "\n",
       "    .dataframe thead th {\n",
       "        text-align: right;\n",
       "    }\n",
       "</style>\n",
       "<table border=\"1\" class=\"dataframe\">\n",
       "  <thead>\n",
       "    <tr style=\"text-align: right;\">\n",
       "      <th></th>\n",
       "      <th>ISBN</th>\n",
       "      <th>Book-Title</th>\n",
       "      <th>Book-Author</th>\n",
       "      <th>Year-Of-Publication</th>\n",
       "      <th>Publisher</th>\n",
       "    </tr>\n",
       "  </thead>\n",
       "  <tbody>\n",
       "    <tr>\n",
       "      <th>128890</th>\n",
       "      <td>193169656X</td>\n",
       "      <td>Tyrant Moon</td>\n",
       "      <td>Elaine Corvidae</td>\n",
       "      <td>2002</td>\n",
       "      <td>NaN</td>\n",
       "    </tr>\n",
       "    <tr>\n",
       "      <th>129037</th>\n",
       "      <td>1931696993</td>\n",
       "      <td>Finders Keepers</td>\n",
       "      <td>Linnea Sinclair</td>\n",
       "      <td>2001</td>\n",
       "      <td>NaN</td>\n",
       "    </tr>\n",
       "  </tbody>\n",
       "</table>\n",
       "</div>"
      ],
      "text/plain": [
       "              ISBN       Book-Title      Book-Author Year-Of-Publication  \\\n",
       "128890  193169656X      Tyrant Moon  Elaine Corvidae                2002   \n",
       "129037  1931696993  Finders Keepers  Linnea Sinclair                2001   \n",
       "\n",
       "       Publisher  \n",
       "128890       NaN  \n",
       "129037       NaN  "
      ]
     },
     "execution_count": 7,
     "metadata": {},
     "output_type": "execute_result"
    }
   ],
   "source": [
    "book_data.loc[book_data['Publisher'].isnull(),:]"
   ]
  },
  {
   "cell_type": "code",
   "execution_count": 8,
   "id": "8d052116",
   "metadata": {},
   "outputs": [],
   "source": [
    "book_data.at[187689 ,'Book-Author'] = 'Other'\n",
    "book_data.at[128890 ,'Publisher'] = 'Other'\n",
    "book_data.at[129037 ,'Publisher'] = 'Other'"
   ]
  },
  {
   "cell_type": "code",
   "execution_count": 9,
   "id": "20e149fb",
   "metadata": {},
   "outputs": [
    {
     "data": {
      "text/plain": [
       "array([2002, 2001, 1991, 1999, 2000, 1993, 1996, 1988, 2004, 1998, 1994,\n",
       "       2003, 1997, 1983, 1979, 1995, 1982, 1985, 1992, 1986, 1978, 1980,\n",
       "       1952, 1987, 1990, 1981, 1989, 1984, 0, 1968, 1961, 1958, 1974,\n",
       "       1976, 1971, 1977, 1975, 1965, 1941, 1970, 1962, 1973, 1972, 1960,\n",
       "       1966, 1920, 1956, 1959, 1953, 1951, 1942, 1963, 1964, 1969, 1954,\n",
       "       1950, 1967, 2005, 1957, 1940, 1937, 1955, 1946, 1936, 1930, 2011,\n",
       "       1925, 1948, 1943, 1947, 1945, 1923, 2020, 1939, 1926, 1938, 2030,\n",
       "       1911, 1904, 1949, 1932, 1928, 1929, 1927, 1931, 1914, 2050, 1934,\n",
       "       1910, 1933, 1902, 1924, 1921, 1900, 2038, 2026, 1944, 1917, 1901,\n",
       "       2010, 1908, 1906, 1935, 1806, 2021, '2000', '1995', '1999', '2004',\n",
       "       '2003', '1990', '1994', '1986', '1989', '2002', '1981', '1993',\n",
       "       '1983', '1982', '1976', '1991', '1977', '1998', '1992', '1996',\n",
       "       '0', '1997', '2001', '1974', '1968', '1987', '1984', '1988',\n",
       "       '1963', '1956', '1970', '1985', '1978', '1973', '1980', '1979',\n",
       "       '1975', '1969', '1961', '1965', '1939', '1958', '1950', '1953',\n",
       "       '1966', '1971', '1959', '1972', '1955', '1957', '1945', '1960',\n",
       "       '1967', '1932', '1924', '1964', '2012', '1911', '1927', '1948',\n",
       "       '1962', '2006', '1952', '1940', '1951', '1931', '1954', '2005',\n",
       "       '1930', '1941', '1944', 'DK Publishing Inc', '1943', '1938',\n",
       "       '1900', '1942', '1923', '1920', '1933', 'Gallimard', '1909',\n",
       "       '1946', '2008', '1378', '2030', '1936', '1947', '2011', '2020',\n",
       "       '1919', '1949', '1922', '1897', '2024', '1376', '1926', '2037'],\n",
       "      dtype=object)"
      ]
     },
     "execution_count": 9,
     "metadata": {},
     "output_type": "execute_result"
    }
   ],
   "source": [
    "book_data['Year-Of-Publication'].unique()"
   ]
  },
  {
   "cell_type": "code",
   "execution_count": 10,
   "id": "cff013b5",
   "metadata": {},
   "outputs": [
    {
     "data": {
      "text/html": [
       "<div>\n",
       "<style scoped>\n",
       "    .dataframe tbody tr th:only-of-type {\n",
       "        vertical-align: middle;\n",
       "    }\n",
       "\n",
       "    .dataframe tbody tr th {\n",
       "        vertical-align: top;\n",
       "    }\n",
       "\n",
       "    .dataframe thead th {\n",
       "        text-align: right;\n",
       "    }\n",
       "</style>\n",
       "<table border=\"1\" class=\"dataframe\">\n",
       "  <thead>\n",
       "    <tr style=\"text-align: right;\">\n",
       "      <th></th>\n",
       "      <th>ISBN</th>\n",
       "      <th>Book-Title</th>\n",
       "      <th>Book-Author</th>\n",
       "      <th>Year-Of-Publication</th>\n",
       "      <th>Publisher</th>\n",
       "    </tr>\n",
       "  </thead>\n",
       "  <tbody>\n",
       "    <tr>\n",
       "      <th>209538</th>\n",
       "      <td>078946697X</td>\n",
       "      <td>DK Readers: Creating the X-Men, How It All Beg...</td>\n",
       "      <td>2000</td>\n",
       "      <td>DK Publishing Inc</td>\n",
       "      <td>http://images.amazon.com/images/P/078946697X.0...</td>\n",
       "    </tr>\n",
       "    <tr>\n",
       "      <th>221678</th>\n",
       "      <td>0789466953</td>\n",
       "      <td>DK Readers: Creating the X-Men, How Comic Book...</td>\n",
       "      <td>2000</td>\n",
       "      <td>DK Publishing Inc</td>\n",
       "      <td>http://images.amazon.com/images/P/0789466953.0...</td>\n",
       "    </tr>\n",
       "  </tbody>\n",
       "</table>\n",
       "</div>"
      ],
      "text/plain": [
       "              ISBN                                         Book-Title  \\\n",
       "209538  078946697X  DK Readers: Creating the X-Men, How It All Beg...   \n",
       "221678  0789466953  DK Readers: Creating the X-Men, How Comic Book...   \n",
       "\n",
       "       Book-Author Year-Of-Publication  \\\n",
       "209538        2000   DK Publishing Inc   \n",
       "221678        2000   DK Publishing Inc   \n",
       "\n",
       "                                                Publisher  \n",
       "209538  http://images.amazon.com/images/P/078946697X.0...  \n",
       "221678  http://images.amazon.com/images/P/0789466953.0...  "
      ]
     },
     "execution_count": 10,
     "metadata": {},
     "output_type": "execute_result"
    }
   ],
   "source": [
    "#pd.set_option('display.max_colwidth', -1)\n",
    "book_data.loc[book_data['Year-Of-Publication'] == 'DK Publishing Inc',:]"
   ]
  },
  {
   "cell_type": "code",
   "execution_count": 11,
   "id": "52a41b6d",
   "metadata": {},
   "outputs": [
    {
     "data": {
      "text/html": [
       "<div>\n",
       "<style scoped>\n",
       "    .dataframe tbody tr th:only-of-type {\n",
       "        vertical-align: middle;\n",
       "    }\n",
       "\n",
       "    .dataframe tbody tr th {\n",
       "        vertical-align: top;\n",
       "    }\n",
       "\n",
       "    .dataframe thead th {\n",
       "        text-align: right;\n",
       "    }\n",
       "</style>\n",
       "<table border=\"1\" class=\"dataframe\">\n",
       "  <thead>\n",
       "    <tr style=\"text-align: right;\">\n",
       "      <th></th>\n",
       "      <th>ISBN</th>\n",
       "      <th>Book-Title</th>\n",
       "      <th>Book-Author</th>\n",
       "      <th>Year-Of-Publication</th>\n",
       "      <th>Publisher</th>\n",
       "    </tr>\n",
       "  </thead>\n",
       "  <tbody>\n",
       "    <tr>\n",
       "      <th>220731</th>\n",
       "      <td>2070426769</td>\n",
       "      <td>Peuple du ciel, suivi de 'Les Bergers\\\";Jean-M...</td>\n",
       "      <td>2003</td>\n",
       "      <td>Gallimard</td>\n",
       "      <td>http://images.amazon.com/images/P/2070426769.0...</td>\n",
       "    </tr>\n",
       "  </tbody>\n",
       "</table>\n",
       "</div>"
      ],
      "text/plain": [
       "              ISBN                                         Book-Title  \\\n",
       "220731  2070426769  Peuple du ciel, suivi de 'Les Bergers\\\";Jean-M...   \n",
       "\n",
       "       Book-Author Year-Of-Publication  \\\n",
       "220731        2003           Gallimard   \n",
       "\n",
       "                                                Publisher  \n",
       "220731  http://images.amazon.com/images/P/2070426769.0...  "
      ]
     },
     "execution_count": 11,
     "metadata": {},
     "output_type": "execute_result"
    }
   ],
   "source": [
    "book_data.loc[book_data['Year-Of-Publication'] == 'Gallimard',:]"
   ]
  },
  {
   "cell_type": "code",
   "execution_count": 12,
   "id": "939af046",
   "metadata": {},
   "outputs": [],
   "source": [
    "book_data.at[209538 ,'Publisher'] = 'DK Publishing Inc'\n",
    "book_data.at[209538 ,'Year-Of-Publication'] = 2000\n",
    "book_data.at[209538 ,'Book-Title'] = 'DK Readers: Creating the X-Men, How It All Began (Level 4: Proficient Readers)'\n",
    "book_data.at[209538 ,'Book-Author'] = 'Michael Teitelbaum'\n",
    "\n",
    "book_data.at[221678 ,'Publisher'] = 'DK Publishing Inc'\n",
    "book_data.at[221678 ,'Year-Of-Publication'] = 2000\n",
    "book_data.at[209538 ,'Book-Title'] = 'DK Readers: Creating the X-Men, How Comic Books Come to Life (Level 4: Proficient Readers)'\n",
    "book_data.at[209538 ,'Book-Author'] = 'James Buckley'\n",
    "\n",
    "book_data.at[220731 ,'Publisher'] = 'Gallimard'\n",
    "book_data.at[220731 ,'Year-Of-Publication'] = '2003'\n",
    "book_data.at[209538 ,'Book-Title'] = 'Peuple du ciel - Suivi de Les bergers '\n",
    "book_data.at[209538 ,'Book-Author'] = 'Jean-Marie Gustave Le ClÃ?Â©zio'"
   ]
  },
  {
   "cell_type": "code",
   "execution_count": 13,
   "id": "74d465a5",
   "metadata": {},
   "outputs": [],
   "source": [
    "book_data['Year-Of-Publication'] = book_data['Year-Of-Publication'].astype(int)"
   ]
  },
  {
   "cell_type": "code",
   "execution_count": 14,
   "id": "18b55f41",
   "metadata": {},
   "outputs": [],
   "source": [
    "book_data.loc[book_data['Year-Of-Publication'] > 2021, 'Year-Of-Publication'] = 2002\n",
    "book_data.loc[book_data['Year-Of-Publication'] == 0, 'Year-Of-Publication'] = 2002"
   ]
  },
  {
   "cell_type": "code",
   "execution_count": 15,
   "id": "40430150",
   "metadata": {},
   "outputs": [],
   "source": [
    "book_data['ISBN'] = book_data['ISBN'].str.upper()"
   ]
  },
  {
   "cell_type": "code",
   "execution_count": 16,
   "id": "91e6d3e2",
   "metadata": {},
   "outputs": [],
   "source": [
    "book_data.drop_duplicates(keep='last', inplace=True) \n",
    "book_data.reset_index(drop = True, inplace = True)"
   ]
  },
  {
   "cell_type": "code",
   "execution_count": 17,
   "id": "857f8983",
   "metadata": {},
   "outputs": [],
   "source": [
    "#userdataset_preprocessing\n",
    "users=pd.read_csv('Dataset/Users.csv',header=[0])"
   ]
  },
  {
   "cell_type": "code",
   "execution_count": 18,
   "id": "f1a80fac",
   "metadata": {},
   "outputs": [
    {
     "name": "stdout",
     "output_type": "stream",
     "text": [
      "User-ID          0\n",
      "Location         0\n",
      "Age         110762\n",
      "dtype: int64\n"
     ]
    }
   ],
   "source": [
    "## Checking null values\n",
    "print(users.isna().sum())"
   ]
  },
  {
   "cell_type": "code",
   "execution_count": 19,
   "id": "dd6891bd",
   "metadata": {},
   "outputs": [],
   "source": [
    "users.drop(['Location'], axis=1, inplace=True)\n",
    "#print(users.info())"
   ]
  },
  {
   "cell_type": "code",
   "execution_count": 20,
   "id": "06eb8354",
   "metadata": {},
   "outputs": [],
   "source": [
    "users.drop_duplicates(keep='last', inplace=True)\n",
    "users.reset_index(drop=True, inplace=True)\n",
    "#print(users.info())"
   ]
  },
  {
   "cell_type": "code",
   "execution_count": 21,
   "id": "a402675d",
   "metadata": {},
   "outputs": [],
   "source": [
    "#Ratings dataset cleaning\n",
    "\n",
    "ratings=pd.read_csv('Dataset/Ratings.csv',header=[0])"
   ]
  },
  {
   "cell_type": "code",
   "execution_count": 22,
   "id": "78b18697",
   "metadata": {},
   "outputs": [
    {
     "name": "stdout",
     "output_type": "stream",
     "text": [
      "Columns:  ['User-ID', 'ISBN', 'Book-Rating']\n"
     ]
    }
   ],
   "source": [
    "print(\"Columns: \", list(ratings.columns))\n",
    "#ratings.info()"
   ]
  },
  {
   "cell_type": "code",
   "execution_count": 23,
   "id": "1e944f44",
   "metadata": {},
   "outputs": [
    {
     "data": {
      "text/plain": [
       "User-ID        0\n",
       "ISBN           0\n",
       "Book-Rating    0\n",
       "dtype: int64"
      ]
     },
     "execution_count": 23,
     "metadata": {},
     "output_type": "execute_result"
    }
   ],
   "source": [
    "ratings.isnull().sum() "
   ]
  },
  {
   "cell_type": "code",
   "execution_count": 24,
   "id": "12187e92",
   "metadata": {},
   "outputs": [],
   "source": [
    "ratings['ISBN'] = ratings['ISBN'].str.upper()"
   ]
  },
  {
   "cell_type": "code",
   "execution_count": 25,
   "id": "15d68f8f",
   "metadata": {},
   "outputs": [],
   "source": [
    "ratings.drop_duplicates(keep='last', inplace=True)\n",
    "ratings.reset_index(drop=True, inplace=True)"
   ]
  },
  {
   "cell_type": "code",
   "execution_count": 26,
   "id": "ebc7a9b1",
   "metadata": {},
   "outputs": [],
   "source": [
    "#MERGING DATASETS\n",
    "dataset = pd.merge(book_data, ratings, on='ISBN', how='inner')\n",
    "dataset = pd.merge(dataset, users, on='User-ID', how='inner')\n",
    "#dataset.info()\n",
    "#dataset.head()"
   ]
  },
  {
   "cell_type": "code",
   "execution_count": 27,
   "id": "32006c1f",
   "metadata": {},
   "outputs": [],
   "source": [
    "dataset1 = dataset[dataset['Book-Rating'] != 0]\n",
    "dataset1 = dataset1.reset_index(drop = True)\n",
    "#dataset1.info()"
   ]
  },
  {
   "cell_type": "code",
   "execution_count": 28,
   "id": "a63c44d0",
   "metadata": {},
   "outputs": [],
   "source": [
    "dataset2 = dataset[dataset['Book-Rating'] == 0]\n",
    "dataset2 = dataset2.reset_index(drop = True)\n",
    "#dataset2.shape"
   ]
  },
  {
   "cell_type": "code",
   "execution_count": 39,
   "id": "c40e37f8",
   "metadata": {},
   "outputs": [
    {
     "name": "stdout",
     "output_type": "stream",
     "text": [
      "Recommended Books:-\n",
      "\n"
     ]
    },
    {
     "data": {
      "text/html": [
       "<div>\n",
       "<style scoped>\n",
       "    .dataframe tbody tr th:only-of-type {\n",
       "        vertical-align: middle;\n",
       "    }\n",
       "\n",
       "    .dataframe tbody tr th {\n",
       "        vertical-align: top;\n",
       "    }\n",
       "\n",
       "    .dataframe thead th {\n",
       "        text-align: right;\n",
       "    }\n",
       "</style>\n",
       "<table border=\"1\" class=\"dataframe\">\n",
       "  <thead>\n",
       "    <tr style=\"text-align: right;\">\n",
       "      <th></th>\n",
       "      <th>Book-Title</th>\n",
       "      <th>Total-Ratings</th>\n",
       "      <th>Average Rating</th>\n",
       "      <th>score</th>\n",
       "    </tr>\n",
       "  </thead>\n",
       "  <tbody>\n",
       "    <tr>\n",
       "      <th>4794</th>\n",
       "      <td>Postmarked Yesteryear: 30 Rare Holiday Postcards</td>\n",
       "      <td>11</td>\n",
       "      <td>10</td>\n",
       "      <td>9.189906</td>\n",
       "    </tr>\n",
       "    <tr>\n",
       "      <th>7272</th>\n",
       "      <td>The Sneetches and Other Stories</td>\n",
       "      <td>8</td>\n",
       "      <td>10</td>\n",
       "      <td>9.002961</td>\n",
       "    </tr>\n",
       "    <tr>\n",
       "      <th>17</th>\n",
       "      <td>Harry Potter and the Prisoner of Azkaban (Book 3)</td>\n",
       "      <td>277</td>\n",
       "      <td>9</td>\n",
       "      <td>8.971768</td>\n",
       "    </tr>\n",
       "    <tr>\n",
       "      <th>28</th>\n",
       "      <td>Harry Potter and the Goblet of Fire (Book 4)</td>\n",
       "      <td>247</td>\n",
       "      <td>9</td>\n",
       "      <td>8.968407</td>\n",
       "    </tr>\n",
       "    <tr>\n",
       "      <th>42</th>\n",
       "      <td>Harry Potter and the Order of the Phoenix (Boo...</td>\n",
       "      <td>211</td>\n",
       "      <td>9</td>\n",
       "      <td>8.963141</td>\n",
       "    </tr>\n",
       "  </tbody>\n",
       "</table>\n",
       "</div>"
      ],
      "text/plain": [
       "                                             Book-Title  Total-Ratings  \\\n",
       "4794   Postmarked Yesteryear: 30 Rare Holiday Postcards             11   \n",
       "7272                    The Sneetches and Other Stories              8   \n",
       "17    Harry Potter and the Prisoner of Azkaban (Book 3)            277   \n",
       "28         Harry Potter and the Goblet of Fire (Book 4)            247   \n",
       "42    Harry Potter and the Order of the Phoenix (Boo...            211   \n",
       "\n",
       "      Average Rating     score  \n",
       "4794              10  9.189906  \n",
       "7272              10  9.002961  \n",
       "17                 9  8.971768  \n",
       "28                 9  8.968407  \n",
       "42                 9  8.963141  "
      ]
     },
     "execution_count": 39,
     "metadata": {},
     "output_type": "execute_result"
    }
   ],
   "source": [
    "#WEIGHTED AVERAGE\n",
    "\n",
    "df1 = pd.DataFrame(dataset1['Book-Title'].value_counts())\n",
    "df1['Total-Ratings'] = df1['Book-Title']\n",
    "df1['Book-Title'] = df1.index\n",
    "df1.reset_index(level=0, inplace=True)\n",
    "df1 = df1.drop('index',axis=1)\n",
    "df1 = pd.read_pickle('weightedData')\n",
    "\n",
    "## C - Mean vote across the whole\n",
    "C = df1['Average Rating'].mean()\n",
    "\n",
    "## Minimum number of ratings required to be in the chart\n",
    "m = df1['Total-Ratings'].quantile(0.90)\n",
    "\n",
    "def weighted_rating(x, m=m, C=C): \n",
    "    v = x['Total-Ratings']    #v - number of votes\n",
    "    R = x['Average Rating']   #R - Average Rating   \n",
    "    return (v/(v+m) * R) + (m/(m+v) * C)\n",
    "\n",
    "df1 = df1.loc[df1['Total-Ratings'] >= m]\n",
    "\n",
    "df1['score'] = df1.apply(weighted_rating, axis=1)\n",
    "df1 = df1.sort_values('score', ascending=False)\n",
    "\n",
    "print(\"Recommended Books:-\\n\")\n",
    "df1.head(5)"
   ]
  },
  {
   "cell_type": "code",
   "execution_count": 29,
   "id": "ca24a397",
   "metadata": {},
   "outputs": [
    {
     "ename": "NameError",
     "evalue": "name 'df' is not defined",
     "output_type": "error",
     "traceback": [
      "\u001b[1;31m---------------------------------------------------------------------------\u001b[0m",
      "\u001b[1;31mNameError\u001b[0m                                 Traceback (most recent call last)",
      "\u001b[1;32mC:\\Users\\SAGAR~1.LAP\\AppData\\Local\\Temp/ipykernel_2132/1239343027.py\u001b[0m in \u001b[0;36m<module>\u001b[1;34m\u001b[0m\n\u001b[1;32m----> 1\u001b[1;33m \u001b[0mdf\u001b[0m\u001b[1;33m.\u001b[0m\u001b[0mloc\u001b[0m\u001b[1;33m[\u001b[0m\u001b[0mdf\u001b[0m\u001b[1;33m[\u001b[0m\u001b[1;34m'Book-Title'\u001b[0m\u001b[1;33m]\u001b[0m \u001b[1;33m==\u001b[0m \u001b[1;34m\"The Lovely Bones: A Novel\"\u001b[0m\u001b[1;33m,\u001b[0m\u001b[1;33m:\u001b[0m\u001b[1;33m]\u001b[0m\u001b[1;33m\u001b[0m\u001b[1;33m\u001b[0m\u001b[0m\n\u001b[0m",
      "\u001b[1;31mNameError\u001b[0m: name 'df' is not defined"
     ]
    }
   ],
   "source": [
    "df.loc[df['Book-Title'] == \"The Lovely Bones: A Novel\",:]"
   ]
  },
  {
   "cell_type": "code",
   "execution_count": 56,
   "id": "b3473ef0",
   "metadata": {},
   "outputs": [
    {
     "data": {
      "text/html": [
       "<div>\n",
       "<style scoped>\n",
       "    .dataframe tbody tr th:only-of-type {\n",
       "        vertical-align: middle;\n",
       "    }\n",
       "\n",
       "    .dataframe tbody tr th {\n",
       "        vertical-align: top;\n",
       "    }\n",
       "\n",
       "    .dataframe thead th {\n",
       "        text-align: right;\n",
       "    }\n",
       "</style>\n",
       "<table border=\"1\" class=\"dataframe\">\n",
       "  <thead>\n",
       "    <tr style=\"text-align: right;\">\n",
       "      <th></th>\n",
       "      <th>Book-Title</th>\n",
       "      <th>Total-Ratings</th>\n",
       "      <th>Average Rating</th>\n",
       "      <th>score</th>\n",
       "    </tr>\n",
       "  </thead>\n",
       "  <tbody>\n",
       "    <tr>\n",
       "      <th>122</th>\n",
       "      <td>Lucky : A Memoir</td>\n",
       "      <td>133</td>\n",
       "      <td>8</td>\n",
       "      <td>7.97854</td>\n",
       "    </tr>\n",
       "  </tbody>\n",
       "</table>\n",
       "</div>"
      ],
      "text/plain": [
       "           Book-Title  Total-Ratings  Average Rating    score\n",
       "122  Lucky : A Memoir            133               8  7.97854"
      ]
     },
     "execution_count": 56,
     "metadata": {},
     "output_type": "execute_result"
    }
   ],
   "source": [
    "df.loc[df['Book-Title'] == \"Lucky : A Memoir\",:]"
   ]
  },
  {
   "cell_type": "code",
   "execution_count": 57,
   "id": "3bcd6a35",
   "metadata": {},
   "outputs": [
    {
     "data": {
      "text/html": [
       "<div>\n",
       "<style scoped>\n",
       "    .dataframe tbody tr th:only-of-type {\n",
       "        vertical-align: middle;\n",
       "    }\n",
       "\n",
       "    .dataframe tbody tr th {\n",
       "        vertical-align: top;\n",
       "    }\n",
       "\n",
       "    .dataframe thead th {\n",
       "        text-align: right;\n",
       "    }\n",
       "</style>\n",
       "<table border=\"1\" class=\"dataframe\">\n",
       "  <thead>\n",
       "    <tr style=\"text-align: right;\">\n",
       "      <th></th>\n",
       "      <th>Book-Title</th>\n",
       "      <th>Total-Ratings</th>\n",
       "      <th>Average Rating</th>\n",
       "      <th>score</th>\n",
       "    </tr>\n",
       "  </thead>\n",
       "  <tbody>\n",
       "    <tr>\n",
       "      <th>14</th>\n",
       "      <td>Where the Heart Is (Oprah's Book Club (Paperba...</td>\n",
       "      <td>295</td>\n",
       "      <td>8</td>\n",
       "      <td>7.990128</td>\n",
       "    </tr>\n",
       "  </tbody>\n",
       "</table>\n",
       "</div>"
      ],
      "text/plain": [
       "                                           Book-Title  Total-Ratings  \\\n",
       "14  Where the Heart Is (Oprah's Book Club (Paperba...            295   \n",
       "\n",
       "    Average Rating     score  \n",
       "14               8  7.990128  "
      ]
     },
     "execution_count": 57,
     "metadata": {},
     "output_type": "execute_result"
    }
   ],
   "source": [
    "df.loc[df['Book-Title'] == \"Where the Heart Is (Oprah's Book Club (Paperback))\",:]"
   ]
  },
  {
   "cell_type": "code",
   "execution_count": 58,
   "id": "69a1541a",
   "metadata": {},
   "outputs": [
    {
     "data": {
      "text/html": [
       "<div>\n",
       "<style scoped>\n",
       "    .dataframe tbody tr th:only-of-type {\n",
       "        vertical-align: middle;\n",
       "    }\n",
       "\n",
       "    .dataframe tbody tr th {\n",
       "        vertical-align: top;\n",
       "    }\n",
       "\n",
       "    .dataframe thead th {\n",
       "        text-align: right;\n",
       "    }\n",
       "</style>\n",
       "<table border=\"1\" class=\"dataframe\">\n",
       "  <thead>\n",
       "    <tr style=\"text-align: right;\">\n",
       "      <th></th>\n",
       "      <th>Book-Title</th>\n",
       "      <th>Total-Ratings</th>\n",
       "      <th>Average Rating</th>\n",
       "      <th>score</th>\n",
       "    </tr>\n",
       "  </thead>\n",
       "  <tbody>\n",
       "    <tr>\n",
       "      <th>2</th>\n",
       "      <td>The Da Vinci Code</td>\n",
       "      <td>495</td>\n",
       "      <td>8</td>\n",
       "      <td>7.994077</td>\n",
       "    </tr>\n",
       "  </tbody>\n",
       "</table>\n",
       "</div>"
      ],
      "text/plain": [
       "          Book-Title  Total-Ratings  Average Rating     score\n",
       "2  The Da Vinci Code            495               8  7.994077"
      ]
     },
     "execution_count": 58,
     "metadata": {},
     "output_type": "execute_result"
    }
   ],
   "source": [
    "df.loc[df['Book-Title'] == \"The Da Vinci Code\",:]"
   ]
  },
  {
   "cell_type": "code",
   "execution_count": 59,
   "id": "7b16812e",
   "metadata": {},
   "outputs": [
    {
     "data": {
      "text/html": [
       "<div>\n",
       "<style scoped>\n",
       "    .dataframe tbody tr th:only-of-type {\n",
       "        vertical-align: middle;\n",
       "    }\n",
       "\n",
       "    .dataframe tbody tr th {\n",
       "        vertical-align: top;\n",
       "    }\n",
       "\n",
       "    .dataframe thead th {\n",
       "        text-align: right;\n",
       "    }\n",
       "</style>\n",
       "<table border=\"1\" class=\"dataframe\">\n",
       "  <thead>\n",
       "    <tr style=\"text-align: right;\">\n",
       "      <th></th>\n",
       "      <th>Book-Title</th>\n",
       "      <th>Total-Ratings</th>\n",
       "      <th>Average Rating</th>\n",
       "      <th>score</th>\n",
       "    </tr>\n",
       "  </thead>\n",
       "  <tbody>\n",
       "    <tr>\n",
       "      <th>27</th>\n",
       "      <td>Good in Bed</td>\n",
       "      <td>247</td>\n",
       "      <td>8</td>\n",
       "      <td>7.988248</td>\n",
       "    </tr>\n",
       "  </tbody>\n",
       "</table>\n",
       "</div>"
      ],
      "text/plain": [
       "     Book-Title  Total-Ratings  Average Rating     score\n",
       "27  Good in Bed            247               8  7.988248"
      ]
     },
     "execution_count": 59,
     "metadata": {},
     "output_type": "execute_result"
    }
   ],
   "source": [
    "df.loc[df['Book-Title'] == \"Good in Bed\",:]"
   ]
  },
  {
   "cell_type": "code",
   "execution_count": 60,
   "id": "915e6bbf",
   "metadata": {},
   "outputs": [
    {
     "data": {
      "text/html": [
       "<div>\n",
       "<style scoped>\n",
       "    .dataframe tbody tr th:only-of-type {\n",
       "        vertical-align: middle;\n",
       "    }\n",
       "\n",
       "    .dataframe tbody tr th {\n",
       "        vertical-align: top;\n",
       "    }\n",
       "\n",
       "    .dataframe thead th {\n",
       "        text-align: right;\n",
       "    }\n",
       "</style>\n",
       "<table border=\"1\" class=\"dataframe\">\n",
       "  <thead>\n",
       "    <tr style=\"text-align: right;\">\n",
       "      <th></th>\n",
       "      <th>Book-Title</th>\n",
       "      <th>Total-Ratings</th>\n",
       "      <th>Average Rating</th>\n",
       "      <th>score</th>\n",
       "    </tr>\n",
       "  </thead>\n",
       "  <tbody>\n",
       "    <tr>\n",
       "      <th>2</th>\n",
       "      <td>The Da Vinci Code</td>\n",
       "      <td>495</td>\n",
       "      <td>8</td>\n",
       "      <td>7.994077</td>\n",
       "    </tr>\n",
       "  </tbody>\n",
       "</table>\n",
       "</div>"
      ],
      "text/plain": [
       "          Book-Title  Total-Ratings  Average Rating     score\n",
       "2  The Da Vinci Code            495               8  7.994077"
      ]
     },
     "execution_count": 60,
     "metadata": {},
     "output_type": "execute_result"
    }
   ],
   "source": [
    "df.loc[df['Book-Title'] == \"The Da Vinci Code\",:]"
   ]
  },
  {
   "cell_type": "code",
   "execution_count": 61,
   "id": "fb50c722",
   "metadata": {},
   "outputs": [
    {
     "data": {
      "text/html": [
       "<div>\n",
       "<style scoped>\n",
       "    .dataframe tbody tr th:only-of-type {\n",
       "        vertical-align: middle;\n",
       "    }\n",
       "\n",
       "    .dataframe tbody tr th {\n",
       "        vertical-align: top;\n",
       "    }\n",
       "\n",
       "    .dataframe thead th {\n",
       "        text-align: right;\n",
       "    }\n",
       "</style>\n",
       "<table border=\"1\" class=\"dataframe\">\n",
       "  <thead>\n",
       "    <tr style=\"text-align: right;\">\n",
       "      <th></th>\n",
       "      <th>Book-Title</th>\n",
       "      <th>Total-Ratings</th>\n",
       "      <th>Average Rating</th>\n",
       "      <th>score</th>\n",
       "    </tr>\n",
       "  </thead>\n",
       "  <tbody>\n",
       "    <tr>\n",
       "      <th>11</th>\n",
       "      <td>Harry Potter and the Sorcerer's Stone (Harry P...</td>\n",
       "      <td>315</td>\n",
       "      <td>8</td>\n",
       "      <td>7.990745</td>\n",
       "    </tr>\n",
       "  </tbody>\n",
       "</table>\n",
       "</div>"
      ],
      "text/plain": [
       "                                           Book-Title  Total-Ratings  \\\n",
       "11  Harry Potter and the Sorcerer's Stone (Harry P...            315   \n",
       "\n",
       "    Average Rating     score  \n",
       "11               8  7.990745  "
      ]
     },
     "execution_count": 61,
     "metadata": {},
     "output_type": "execute_result"
    }
   ],
   "source": [
    "df.loc[df['Book-Title'] == \"Harry Potter and the Sorcerer's Stone (Harry Potter (Paperback))\",:]"
   ]
  },
  {
   "cell_type": "code",
   "execution_count": 62,
   "id": "741119d6",
   "metadata": {},
   "outputs": [
    {
     "data": {
      "text/html": [
       "<div>\n",
       "<style scoped>\n",
       "    .dataframe tbody tr th:only-of-type {\n",
       "        vertical-align: middle;\n",
       "    }\n",
       "\n",
       "    .dataframe tbody tr th {\n",
       "        vertical-align: top;\n",
       "    }\n",
       "\n",
       "    .dataframe thead th {\n",
       "        text-align: right;\n",
       "    }\n",
       "</style>\n",
       "<table border=\"1\" class=\"dataframe\">\n",
       "  <thead>\n",
       "    <tr style=\"text-align: right;\">\n",
       "      <th></th>\n",
       "      <th>Book-Title</th>\n",
       "      <th>Total-Ratings</th>\n",
       "      <th>Average Rating</th>\n",
       "      <th>score</th>\n",
       "    </tr>\n",
       "  </thead>\n",
       "  <tbody>\n",
       "    <tr>\n",
       "      <th>5</th>\n",
       "      <td>The Red Tent (Bestselling Backlist)</td>\n",
       "      <td>383</td>\n",
       "      <td>8</td>\n",
       "      <td>7.992367</td>\n",
       "    </tr>\n",
       "  </tbody>\n",
       "</table>\n",
       "</div>"
      ],
      "text/plain": [
       "                            Book-Title  Total-Ratings  Average Rating  \\\n",
       "5  The Red Tent (Bestselling Backlist)            383               8   \n",
       "\n",
       "      score  \n",
       "5  7.992367  "
      ]
     },
     "execution_count": 62,
     "metadata": {},
     "output_type": "execute_result"
    }
   ],
   "source": [
    "df.loc[df['Book-Title'] == \"The Red Tent (Bestselling Backlist)\",:]"
   ]
  },
  {
   "cell_type": "code",
   "execution_count": 63,
   "id": "b4f8798d",
   "metadata": {},
   "outputs": [
    {
     "data": {
      "text/html": [
       "<div>\n",
       "<style scoped>\n",
       "    .dataframe tbody tr th:only-of-type {\n",
       "        vertical-align: middle;\n",
       "    }\n",
       "\n",
       "    .dataframe tbody tr th {\n",
       "        vertical-align: top;\n",
       "    }\n",
       "\n",
       "    .dataframe thead th {\n",
       "        text-align: right;\n",
       "    }\n",
       "</style>\n",
       "<table border=\"1\" class=\"dataframe\">\n",
       "  <thead>\n",
       "    <tr style=\"text-align: right;\">\n",
       "      <th></th>\n",
       "      <th>Book-Title</th>\n",
       "      <th>Total-Ratings</th>\n",
       "      <th>Average Rating</th>\n",
       "      <th>score</th>\n",
       "    </tr>\n",
       "  </thead>\n",
       "  <tbody>\n",
       "    <tr>\n",
       "      <th>3</th>\n",
       "      <td>The Secret Life of Bees</td>\n",
       "      <td>413</td>\n",
       "      <td>8</td>\n",
       "      <td>7.992915</td>\n",
       "    </tr>\n",
       "  </tbody>\n",
       "</table>\n",
       "</div>"
      ],
      "text/plain": [
       "                Book-Title  Total-Ratings  Average Rating     score\n",
       "3  The Secret Life of Bees            413               8  7.992915"
      ]
     },
     "execution_count": 63,
     "metadata": {},
     "output_type": "execute_result"
    }
   ],
   "source": [
    "df.loc[df['Book-Title'] == \"The Secret Life of Bees\",:]"
   ]
  },
  {
   "cell_type": "code",
   "execution_count": 64,
   "id": "86bd6e85",
   "metadata": {},
   "outputs": [
    {
     "data": {
      "text/html": [
       "<div>\n",
       "<style scoped>\n",
       "    .dataframe tbody tr th:only-of-type {\n",
       "        vertical-align: middle;\n",
       "    }\n",
       "\n",
       "    .dataframe tbody tr th {\n",
       "        vertical-align: top;\n",
       "    }\n",
       "\n",
       "    .dataframe thead th {\n",
       "        text-align: right;\n",
       "    }\n",
       "</style>\n",
       "<table border=\"1\" class=\"dataframe\">\n",
       "  <thead>\n",
       "    <tr style=\"text-align: right;\">\n",
       "      <th></th>\n",
       "      <th>Book-Title</th>\n",
       "      <th>Total-Ratings</th>\n",
       "      <th>Average Rating</th>\n",
       "      <th>score</th>\n",
       "    </tr>\n",
       "  </thead>\n",
       "  <tbody>\n",
       "    <tr>\n",
       "      <th>10</th>\n",
       "      <td>Divine Secrets of the Ya-Ya Sisterhood: A Novel</td>\n",
       "      <td>323</td>\n",
       "      <td>7</td>\n",
       "      <td>7.006215</td>\n",
       "    </tr>\n",
       "  </tbody>\n",
       "</table>\n",
       "</div>"
      ],
      "text/plain": [
       "                                         Book-Title  Total-Ratings  \\\n",
       "10  Divine Secrets of the Ya-Ya Sisterhood: A Novel            323   \n",
       "\n",
       "    Average Rating     score  \n",
       "10               7  7.006215  "
      ]
     },
     "execution_count": 64,
     "metadata": {},
     "output_type": "execute_result"
    }
   ],
   "source": [
    "df.loc[df['Book-Title'] == \"Divine Secrets of the Ya-Ya Sisterhood: A Novel\",:]"
   ]
  },
  {
   "cell_type": "code",
   "execution_count": 30,
   "id": "d0fac3c2",
   "metadata": {},
   "outputs": [
    {
     "ename": "NameError",
     "evalue": "name 'df' is not defined",
     "output_type": "error",
     "traceback": [
      "\u001b[1;31m---------------------------------------------------------------------------\u001b[0m",
      "\u001b[1;31mNameError\u001b[0m                                 Traceback (most recent call last)",
      "\u001b[1;32mC:\\Users\\SAGAR~1.LAP\\AppData\\Local\\Temp/ipykernel_2132/407440179.py\u001b[0m in \u001b[0;36m<module>\u001b[1;34m\u001b[0m\n\u001b[1;32m----> 1\u001b[1;33m \u001b[0mbook_data\u001b[0m\u001b[1;33m.\u001b[0m\u001b[0mloc\u001b[0m\u001b[1;33m[\u001b[0m\u001b[0mbook_data\u001b[0m\u001b[1;33m[\u001b[0m\u001b[1;34m'Book-Title'\u001b[0m\u001b[1;33m]\u001b[0m \u001b[1;33m==\u001b[0m \u001b[0mdf\u001b[0m\u001b[1;33m[\u001b[0m\u001b[1;34m'Book-Title'\u001b[0m\u001b[1;33m]\u001b[0m\u001b[1;33m[\u001b[0m\u001b[1;36m2\u001b[0m\u001b[1;33m]\u001b[0m\u001b[1;33m,\u001b[0m\u001b[1;33m:\u001b[0m\u001b[1;33m]\u001b[0m\u001b[1;33m\u001b[0m\u001b[1;33m\u001b[0m\u001b[0m\n\u001b[0m",
      "\u001b[1;31mNameError\u001b[0m: name 'df' is not defined"
     ]
    }
   ],
   "source": [
    "\n",
    "book_data.loc[book_data['Book-Title'] == df['Book-Title'][2],:]"
   ]
  },
  {
   "cell_type": "code",
   "execution_count": 30,
   "id": "f9caaa9f",
   "metadata": {},
   "outputs": [
    {
     "name": "stdout",
     "output_type": "stream",
     "text": [
      "Enter book nameHarry Potter and the Goblet of Fire (Book 4)\n",
      "Enter number of books to be recommended5\n",
      "\n",
      "Books by same Author:\n",
      "\n",
      "['J. K. Rowling']\n",
      "Harry Potter and the Sorcerer's Stone (Harry Potter (Paperback))\n",
      "Harry Potter and the Order of the Phoenix (Book 5)\n",
      "Harry Potter y el cÃ¡liz de fuego\n",
      "Harry Potter and the Chamber of Secrets (Book 2)\n",
      "Fantastic Beasts and Where to Find Them\n",
      "\n",
      "\n",
      "Books by same Publisher:\n",
      "\n",
      "['Scholastic' 'Scholastic Paperbacks']\n",
      "Let's Get Invisible! (Goosebumps, No 6)\n",
      "Fraidy Cats (Hello Reader, Level 2)\n",
      "Call Waiting\n",
      "I Choose You (Pokemon Chapter Book #1)\n",
      "Through the Hidden Door\n"
     ]
    }
   ],
   "source": [
    "#Book By Same Author and Same Publisher of given book\n",
    "\n",
    "def printBook(k, n):\n",
    "    z = k['Book-Title'].unique()\n",
    "    for x in range(len(z)):\n",
    "        print(z[x])\n",
    "        if x >= n-1:\n",
    "            break\n",
    "def get_books(dataframe, name, n):\n",
    "    print(\"\\nBooks by same Author:\\n\")\n",
    "    d = dataframe[dataframe['Book-Title'] == bookName]\n",
    "    #print(d)\n",
    "    au = d['Book-Author'].unique()\n",
    "    print(au)\n",
    "    data = dataset1[dataset1['Book-Title'] != name]\n",
    "\n",
    "    if au[0] in list(data['Book-Author'].unique()):\n",
    "        k2 = data[data['Book-Author'] == au[0]]\n",
    "    k2 = k2.sort_values(by=['Book-Rating'])\n",
    "    printBook(k2, n)\n",
    "\n",
    "    print(\"\\n\\nBooks by same Publisher:\\n\")\n",
    "    au = d['Publisher'].unique()\n",
    "    print(au)\n",
    "    if au[0] in list(data['Publisher'].unique()):\n",
    "        k2 = pd.DataFrame(data[data['Publisher'] == au[0]])\n",
    "    k2=k2.sort_values(by=['Book-Rating']) \n",
    "    printBook(k2, n)\n",
    "bookName=input(\"Enter book name\") # Harry Potter and the Sorcerer's Stone (Harry Potter (Paperback))\n",
    "number=int(input(\"Enter number of books to be recommended\"))\n",
    "\n",
    "if bookName in list(dataset1['Book-Title'].unique()):\n",
    "    get_books(dataset1, bookName, number)\n",
    "else:\n",
    "    print(\"Invalid Book Name!!\")"
   ]
  },
  {
   "cell_type": "code",
   "execution_count": 46,
   "id": "71f29c99",
   "metadata": {
    "scrolled": true
   },
   "outputs": [
    {
     "name": "stdout",
     "output_type": "stream",
     "text": [
      "Input Book:\n",
      "Harry Potter and the Goblet of Fire (Book 4)\n",
      "\n",
      "RECOMMENDATIONS:\n",
      "\n",
      "Harry Potter and the Goblet of Fire (Book 4)\n",
      "Harry Potter and the Prisoner of Azkaban (Book 3)\n",
      "Harry Potter and the Chamber of Secrets (Book 2)\n",
      "Harry Potter and the Sorcerer's Stone (Book 1)\n",
      "Harry Potter and the Order of the Phoenix (Book 5)\n"
     ]
    }
   ],
   "source": [
    "#Collaborative \n",
    "\n",
    "\n",
    "#claculates total-ratings each book got and creates a new dataframe having columns bt,isbn,ba,ui,br,tr\n",
    "df = pd.DataFrame(dataset1['Book-Title'].value_counts())\n",
    "df['Total-Ratings'] = df['Book-Title']\n",
    "df['Book-Title'] = df.index\n",
    "df.reset_index(level=0, inplace=True)\n",
    "df = df.drop('index',axis=1)\n",
    "df = dataset1.merge(df, left_on = 'Book-Title', right_on = 'Book-Title', how = 'left')\n",
    "df = df.drop(['Year-Of-Publication','Publisher','Age'], axis=1)\n",
    "#print(df.head(10))\n",
    "popularity_threshold = 80\n",
    "popular_book = df[df['Total-Ratings'] >= popularity_threshold]\n",
    "popular_book = popular_book.reset_index(drop = True)\n",
    "\n",
    "testdf = pd.DataFrame()\n",
    "testdf['ISBN'] = popular_book['ISBN']\n",
    "testdf['Book-Rating'] = popular_book['Book-Rating']\n",
    "testdf['User-ID'] = popular_book['User-ID']\n",
    "testdf = testdf[['User-ID','Book-Rating']].groupby(testdf['ISBN'])\n",
    "#print(testdf.groups) #have the data of users who rated each individual book\n",
    "#print(dataset1.info())\n",
    "\n",
    "listOfDictonaries=[]\n",
    "indexMap = {}\n",
    "reverseIndexMap = {}\n",
    "ptr=0\n",
    "\n",
    "for groupKey in testdf.groups.keys():\n",
    "    tempDict={}\n",
    "    groupDF = testdf.get_group(groupKey)\n",
    "    groupDF= groupDF.reset_index(drop = True)\n",
    "    for i in range(0,len(groupDF)):\n",
    "        tempDict[groupDF.iloc[i,0]] = groupDF.iloc[i,1] #[i,0]=user-id [i,1]=rating\n",
    "    #in tempdict key=userid value=rating\n",
    "    indexMap[ptr]=groupKey #indexMap has isbn values\n",
    "    reverseIndexMap[groupKey] = ptr\n",
    "    ptr=ptr+1\n",
    "    listOfDictonaries.append(tempDict) \n",
    "\n",
    "dictVectorizer = DictVectorizer(sparse=True)\n",
    "vector = dictVectorizer.fit_transform(listOfDictonaries)\n",
    "#print(vector)\n",
    "#pairwiseSimilarity = cosine_similarity(vector)\n",
    "pairwiseSimilarity = cosine_similarity(vector)\n",
    "\n",
    "def printBookDetails(bookID):\n",
    "    print(dataset1[dataset1['ISBN']==bookID]['Book-Title'].values[0])\n",
    "    \n",
    "\n",
    "def getTopRecommandations(bookID):\n",
    "    collaborative = []\n",
    "    row = reverseIndexMap[bookID]\n",
    "    print(\"Input Book:\")\n",
    "    printBookDetails(bookID)\n",
    "    \n",
    "    print(\"\\nRECOMMENDATIONS:\\n\")\n",
    "    \n",
    "    mn = 0\n",
    "    similar = []\n",
    "    for i in np.argsort(pairwiseSimilarity[row])[::-1]:\n",
    "          if dataset1[dataset1['ISBN']==indexMap[i]]['Book-Title'].values[0] not in similar:\n",
    "               \n",
    "                if mn>=5:\n",
    "                      break\n",
    "                mn+=1\n",
    "                similar.append(dataset1[dataset1['ISBN']==indexMap[i]]['Book-Title'].values[0])\n",
    "                printBookDetails(indexMap[i])\n",
    "                collaborative.append(dataset1[dataset1['ISBN']==indexMap[i]]['Book-Title'].values[0])\n",
    "                #collaborative.append(pairwiseSimilarity[i][np.argsort(pairwiseSimilarity[i])[::-1][0]])\n",
    "            \n",
    "    return collaborative\n",
    "\n",
    "k = list(dataset1['Book-Title'])\n",
    "m = list(dataset1['ISBN'])\n",
    "\n",
    "collaborative = getTopRecommandations(m[k.index(bookName)])\n",
    "#print(collaborative)"
   ]
  },
  {
   "cell_type": "code",
   "execution_count": 47,
   "id": "bdd35277",
   "metadata": {},
   "outputs": [
    {
     "name": "stdout",
     "output_type": "stream",
     "text": [
      "  (0, 789)\t9.0\n",
      "  (0, 1625)\t9.0\n",
      "  (1, 1625)\t8.0\n",
      "  (2, 887)\t9.0\n",
      "  (2, 4003)\t9.0\n",
      "  (2, 17367)\t9.0\n",
      "  (3, 2)\t8.0\n",
      "  (3, 1383)\t8.0\n",
      "  (3, 2038)\t9.0\n",
      "  (3, 2434)\t9.0\n",
      "  (3, 2622)\t10.0\n",
      "  (3, 7747)\t10.0\n",
      "  (3, 7958)\t8.0\n",
      "  (3, 9485)\t9.0\n",
      "  (3, 10260)\t8.0\n",
      "  (3, 10525)\t8.0\n",
      "  (3, 10708)\t8.0\n",
      "  (3, 10776)\t10.0\n",
      "  (3, 11786)\t8.0\n",
      "  (3, 11873)\t6.0\n",
      "  (3, 11911)\t8.0\n",
      "  (3, 12413)\t8.0\n",
      "  (3, 13048)\t9.0\n",
      "  (3, 13540)\t10.0\n",
      "  (3, 15316)\t6.0\n",
      "  :\t:\n",
      "  (978, 18726)\t7.0\n",
      "  (979, 18613)\t10.0\n",
      "  (979, 19282)\t10.0\n",
      "  (980, 3288)\t8.0\n",
      "  (980, 10487)\t6.0\n",
      "  (980, 11285)\t5.0\n",
      "  (980, 18438)\t7.0\n",
      "  (981, 11285)\t9.0\n",
      "  (982, 8412)\t8.0\n",
      "  (982, 11649)\t10.0\n",
      "  (983, 2778)\t9.0\n",
      "  (984, 3670)\t6.0\n",
      "  (985, 5593)\t8.0\n",
      "  (986, 9188)\t7.0\n",
      "  (987, 11332)\t9.0\n",
      "  (988, 5686)\t10.0\n",
      "  (988, 8491)\t9.0\n",
      "  (988, 10064)\t7.0\n",
      "  (989, 5719)\t1.0\n",
      "  (990, 7336)\t7.0\n",
      "  (990, 11742)\t8.0\n",
      "  (991, 7859)\t10.0\n",
      "  (992, 17002)\t9.0\n",
      "  (993, 4194)\t7.0\n",
      "  (994, 15566)\t7.0\n"
     ]
    }
   ],
   "source": [
    "print(vector)"
   ]
  },
  {
   "cell_type": "code",
   "execution_count": 33,
   "id": "f87e00e2",
   "metadata": {},
   "outputs": [
    {
     "data": {
      "text/html": [
       "<div>\n",
       "<style scoped>\n",
       "    .dataframe tbody tr th:only-of-type {\n",
       "        vertical-align: middle;\n",
       "    }\n",
       "\n",
       "    .dataframe tbody tr th {\n",
       "        vertical-align: top;\n",
       "    }\n",
       "\n",
       "    .dataframe thead th {\n",
       "        text-align: right;\n",
       "    }\n",
       "</style>\n",
       "<table border=\"1\" class=\"dataframe\">\n",
       "  <thead>\n",
       "    <tr style=\"text-align: right;\">\n",
       "      <th></th>\n",
       "      <th>Book-Title</th>\n",
       "      <th>Total-Ratings</th>\n",
       "      <th>Average Rating</th>\n",
       "      <th>score</th>\n",
       "    </tr>\n",
       "  </thead>\n",
       "  <tbody>\n",
       "    <tr>\n",
       "      <th>28</th>\n",
       "      <td>Harry Potter and the Goblet of Fire (Book 4)</td>\n",
       "      <td>247</td>\n",
       "      <td>9</td>\n",
       "      <td>8.968407</td>\n",
       "    </tr>\n",
       "  </tbody>\n",
       "</table>\n",
       "</div>"
      ],
      "text/plain": [
       "                                      Book-Title  Total-Ratings  \\\n",
       "28  Harry Potter and the Goblet of Fire (Book 4)            247   \n",
       "\n",
       "    Average Rating     score  \n",
       "28               9  8.968407  "
      ]
     },
     "execution_count": 33,
     "metadata": {},
     "output_type": "execute_result"
    }
   ],
   "source": [
    "df1.loc[df1['Book-Title'] == \"Harry Potter and the Goblet of Fire (Book 4)\",:]"
   ]
  },
  {
   "cell_type": "code",
   "execution_count": 34,
   "id": "bb6521fa",
   "metadata": {},
   "outputs": [
    {
     "data": {
      "text/html": [
       "<div>\n",
       "<style scoped>\n",
       "    .dataframe tbody tr th:only-of-type {\n",
       "        vertical-align: middle;\n",
       "    }\n",
       "\n",
       "    .dataframe tbody tr th {\n",
       "        vertical-align: top;\n",
       "    }\n",
       "\n",
       "    .dataframe thead th {\n",
       "        text-align: right;\n",
       "    }\n",
       "</style>\n",
       "<table border=\"1\" class=\"dataframe\">\n",
       "  <thead>\n",
       "    <tr style=\"text-align: right;\">\n",
       "      <th></th>\n",
       "      <th>Book-Title</th>\n",
       "      <th>Total-Ratings</th>\n",
       "      <th>Average Rating</th>\n",
       "      <th>score</th>\n",
       "    </tr>\n",
       "  </thead>\n",
       "  <tbody>\n",
       "    <tr>\n",
       "      <th>17</th>\n",
       "      <td>Harry Potter and the Prisoner of Azkaban (Book 3)</td>\n",
       "      <td>277</td>\n",
       "      <td>9</td>\n",
       "      <td>8.971768</td>\n",
       "    </tr>\n",
       "  </tbody>\n",
       "</table>\n",
       "</div>"
      ],
      "text/plain": [
       "                                           Book-Title  Total-Ratings  \\\n",
       "17  Harry Potter and the Prisoner of Azkaban (Book 3)            277   \n",
       "\n",
       "    Average Rating     score  \n",
       "17               9  8.971768  "
      ]
     },
     "execution_count": 34,
     "metadata": {},
     "output_type": "execute_result"
    }
   ],
   "source": [
    "df1.loc[df1['Book-Title'] == \"Harry Potter and the Prisoner of Azkaban (Book 3)\",:]"
   ]
  },
  {
   "cell_type": "code",
   "execution_count": 35,
   "id": "7412ccf0",
   "metadata": {},
   "outputs": [
    {
     "data": {
      "text/html": [
       "<div>\n",
       "<style scoped>\n",
       "    .dataframe tbody tr th:only-of-type {\n",
       "        vertical-align: middle;\n",
       "    }\n",
       "\n",
       "    .dataframe tbody tr th {\n",
       "        vertical-align: top;\n",
       "    }\n",
       "\n",
       "    .dataframe thead th {\n",
       "        text-align: right;\n",
       "    }\n",
       "</style>\n",
       "<table border=\"1\" class=\"dataframe\">\n",
       "  <thead>\n",
       "    <tr style=\"text-align: right;\">\n",
       "      <th></th>\n",
       "      <th>Book-Title</th>\n",
       "      <th>Total-Ratings</th>\n",
       "      <th>Average Rating</th>\n",
       "      <th>score</th>\n",
       "    </tr>\n",
       "  </thead>\n",
       "  <tbody>\n",
       "    <tr>\n",
       "      <th>9</th>\n",
       "      <td>Harry Potter and the Chamber of Secrets (Book 2)</td>\n",
       "      <td>326</td>\n",
       "      <td>8</td>\n",
       "      <td>7.991053</td>\n",
       "    </tr>\n",
       "  </tbody>\n",
       "</table>\n",
       "</div>"
      ],
      "text/plain": [
       "                                         Book-Title  Total-Ratings  \\\n",
       "9  Harry Potter and the Chamber of Secrets (Book 2)            326   \n",
       "\n",
       "   Average Rating     score  \n",
       "9               8  7.991053  "
      ]
     },
     "execution_count": 35,
     "metadata": {},
     "output_type": "execute_result"
    }
   ],
   "source": [
    "df1.loc[df1['Book-Title'] == \"Harry Potter and the Chamber of Secrets (Book 2)\",:]"
   ]
  },
  {
   "cell_type": "code",
   "execution_count": 36,
   "id": "03275747",
   "metadata": {},
   "outputs": [
    {
     "data": {
      "text/html": [
       "<div>\n",
       "<style scoped>\n",
       "    .dataframe tbody tr th:only-of-type {\n",
       "        vertical-align: middle;\n",
       "    }\n",
       "\n",
       "    .dataframe tbody tr th {\n",
       "        vertical-align: top;\n",
       "    }\n",
       "\n",
       "    .dataframe thead th {\n",
       "        text-align: right;\n",
       "    }\n",
       "</style>\n",
       "<table border=\"1\" class=\"dataframe\">\n",
       "  <thead>\n",
       "    <tr style=\"text-align: right;\">\n",
       "      <th></th>\n",
       "      <th>Book-Title</th>\n",
       "      <th>Total-Ratings</th>\n",
       "      <th>Average Rating</th>\n",
       "      <th>score</th>\n",
       "    </tr>\n",
       "  </thead>\n",
       "  <tbody>\n",
       "    <tr>\n",
       "      <th>68</th>\n",
       "      <td>Harry Potter and the Sorcerer's Stone (Book 1)</td>\n",
       "      <td>176</td>\n",
       "      <td>9</td>\n",
       "      <td>8.956014</td>\n",
       "    </tr>\n",
       "  </tbody>\n",
       "</table>\n",
       "</div>"
      ],
      "text/plain": [
       "                                        Book-Title  Total-Ratings  \\\n",
       "68  Harry Potter and the Sorcerer's Stone (Book 1)            176   \n",
       "\n",
       "    Average Rating     score  \n",
       "68               9  8.956014  "
      ]
     },
     "execution_count": 36,
     "metadata": {},
     "output_type": "execute_result"
    }
   ],
   "source": [
    "df1.loc[df1['Book-Title'] == \"Harry Potter and the Sorcerer's Stone (Book 1)\",:]"
   ]
  },
  {
   "cell_type": "code",
   "execution_count": 37,
   "id": "fb210492",
   "metadata": {},
   "outputs": [
    {
     "data": {
      "text/html": [
       "<div>\n",
       "<style scoped>\n",
       "    .dataframe tbody tr th:only-of-type {\n",
       "        vertical-align: middle;\n",
       "    }\n",
       "\n",
       "    .dataframe tbody tr th {\n",
       "        vertical-align: top;\n",
       "    }\n",
       "\n",
       "    .dataframe thead th {\n",
       "        text-align: right;\n",
       "    }\n",
       "</style>\n",
       "<table border=\"1\" class=\"dataframe\">\n",
       "  <thead>\n",
       "    <tr style=\"text-align: right;\">\n",
       "      <th></th>\n",
       "      <th>Book-Title</th>\n",
       "      <th>Total-Ratings</th>\n",
       "      <th>Average Rating</th>\n",
       "      <th>score</th>\n",
       "    </tr>\n",
       "  </thead>\n",
       "  <tbody>\n",
       "    <tr>\n",
       "      <th>42</th>\n",
       "      <td>Harry Potter and the Order of the Phoenix (Boo...</td>\n",
       "      <td>211</td>\n",
       "      <td>9</td>\n",
       "      <td>8.963141</td>\n",
       "    </tr>\n",
       "  </tbody>\n",
       "</table>\n",
       "</div>"
      ],
      "text/plain": [
       "                                           Book-Title  Total-Ratings  \\\n",
       "42  Harry Potter and the Order of the Phoenix (Boo...            211   \n",
       "\n",
       "    Average Rating     score  \n",
       "42               9  8.963141  "
      ]
     },
     "execution_count": 37,
     "metadata": {},
     "output_type": "execute_result"
    }
   ],
   "source": [
    "df1.loc[df1['Book-Title'] == \"Harry Potter and the Order of the Phoenix (Book 5)\",:]"
   ]
  },
  {
   "cell_type": "code",
   "execution_count": 35,
   "id": "25955ad1",
   "metadata": {},
   "outputs": [
    {
     "data": {
      "text/html": [
       "<div>\n",
       "<style scoped>\n",
       "    .dataframe tbody tr th:only-of-type {\n",
       "        vertical-align: middle;\n",
       "    }\n",
       "\n",
       "    .dataframe tbody tr th {\n",
       "        vertical-align: top;\n",
       "    }\n",
       "\n",
       "    .dataframe thead th {\n",
       "        text-align: right;\n",
       "    }\n",
       "</style>\n",
       "<table border=\"1\" class=\"dataframe\">\n",
       "  <thead>\n",
       "    <tr style=\"text-align: right;\">\n",
       "      <th></th>\n",
       "      <th>Book-Title</th>\n",
       "      <th>Total-Ratings</th>\n",
       "      <th>Average Rating</th>\n",
       "      <th>score</th>\n",
       "    </tr>\n",
       "  </thead>\n",
       "  <tbody>\n",
       "    <tr>\n",
       "      <th>4794</th>\n",
       "      <td>Postmarked Yesteryear: 30 Rare Holiday Postcards</td>\n",
       "      <td>11</td>\n",
       "      <td>10</td>\n",
       "      <td>9.189906</td>\n",
       "    </tr>\n",
       "    <tr>\n",
       "      <th>7272</th>\n",
       "      <td>The Sneetches and Other Stories</td>\n",
       "      <td>8</td>\n",
       "      <td>10</td>\n",
       "      <td>9.002961</td>\n",
       "    </tr>\n",
       "    <tr>\n",
       "      <th>17</th>\n",
       "      <td>Harry Potter and the Prisoner of Azkaban (Book 3)</td>\n",
       "      <td>277</td>\n",
       "      <td>9</td>\n",
       "      <td>8.971768</td>\n",
       "    </tr>\n",
       "    <tr>\n",
       "      <th>28</th>\n",
       "      <td>Harry Potter and the Goblet of Fire (Book 4)</td>\n",
       "      <td>247</td>\n",
       "      <td>9</td>\n",
       "      <td>8.968407</td>\n",
       "    </tr>\n",
       "    <tr>\n",
       "      <th>42</th>\n",
       "      <td>Harry Potter and the Order of the Phoenix (Boo...</td>\n",
       "      <td>211</td>\n",
       "      <td>9</td>\n",
       "      <td>8.963141</td>\n",
       "    </tr>\n",
       "  </tbody>\n",
       "</table>\n",
       "</div>"
      ],
      "text/plain": [
       "                                             Book-Title  Total-Ratings  \\\n",
       "4794   Postmarked Yesteryear: 30 Rare Holiday Postcards             11   \n",
       "7272                    The Sneetches and Other Stories              8   \n",
       "17    Harry Potter and the Prisoner of Azkaban (Book 3)            277   \n",
       "28         Harry Potter and the Goblet of Fire (Book 4)            247   \n",
       "42    Harry Potter and the Order of the Phoenix (Boo...            211   \n",
       "\n",
       "      Average Rating     score  \n",
       "4794              10  9.189906  \n",
       "7272              10  9.002961  \n",
       "17                 9  8.971768  \n",
       "28                 9  8.968407  \n",
       "42                 9  8.963141  "
      ]
     },
     "execution_count": 35,
     "metadata": {},
     "output_type": "execute_result"
    }
   ],
   "source": [
    "df1.head(5)"
   ]
  },
  {
   "cell_type": "code",
   "execution_count": 101,
   "id": "2734109b",
   "metadata": {},
   "outputs": [
    {
     "data": {
      "text/html": [
       "<div>\n",
       "<style scoped>\n",
       "    .dataframe tbody tr th:only-of-type {\n",
       "        vertical-align: middle;\n",
       "    }\n",
       "\n",
       "    .dataframe tbody tr th {\n",
       "        vertical-align: top;\n",
       "    }\n",
       "\n",
       "    .dataframe thead th {\n",
       "        text-align: right;\n",
       "    }\n",
       "</style>\n",
       "<table border=\"1\" class=\"dataframe\">\n",
       "  <thead>\n",
       "    <tr style=\"text-align: right;\">\n",
       "      <th></th>\n",
       "      <th>Book-Title</th>\n",
       "      <th>Total-Ratings</th>\n",
       "      <th>Average Rating</th>\n",
       "      <th>score</th>\n",
       "    </tr>\n",
       "  </thead>\n",
       "  <tbody>\n",
       "    <tr>\n",
       "      <th>309</th>\n",
       "      <td>Quentins</td>\n",
       "      <td>80</td>\n",
       "      <td>7</td>\n",
       "      <td>7.023982</td>\n",
       "    </tr>\n",
       "  </tbody>\n",
       "</table>\n",
       "</div>"
      ],
      "text/plain": [
       "    Book-Title  Total-Ratings  Average Rating     score\n",
       "309   Quentins             80               7  7.023982"
      ]
     },
     "execution_count": 101,
     "metadata": {},
     "output_type": "execute_result"
    }
   ],
   "source": [
    "df1.loc[df1['Book-Title'] == \"Quentins\",:]"
   ]
  },
  {
   "cell_type": "code",
   "execution_count": 102,
   "id": "1b269bbb",
   "metadata": {},
   "outputs": [
    {
     "data": {
      "text/html": [
       "<div>\n",
       "<style scoped>\n",
       "    .dataframe tbody tr th:only-of-type {\n",
       "        vertical-align: middle;\n",
       "    }\n",
       "\n",
       "    .dataframe tbody tr th {\n",
       "        vertical-align: top;\n",
       "    }\n",
       "\n",
       "    .dataframe thead th {\n",
       "        text-align: right;\n",
       "    }\n",
       "</style>\n",
       "<table border=\"1\" class=\"dataframe\">\n",
       "  <thead>\n",
       "    <tr style=\"text-align: right;\">\n",
       "      <th></th>\n",
       "      <th>Book-Title</th>\n",
       "      <th>Total-Ratings</th>\n",
       "      <th>Average Rating</th>\n",
       "      <th>score</th>\n",
       "    </tr>\n",
       "  </thead>\n",
       "  <tbody>\n",
       "    <tr>\n",
       "      <th>172</th>\n",
       "      <td>Unnatural Exposure</td>\n",
       "      <td>106</td>\n",
       "      <td>7</td>\n",
       "      <td>7.018365</td>\n",
       "    </tr>\n",
       "  </tbody>\n",
       "</table>\n",
       "</div>"
      ],
      "text/plain": [
       "             Book-Title  Total-Ratings  Average Rating     score\n",
       "172  Unnatural Exposure            106               7  7.018365"
      ]
     },
     "execution_count": 102,
     "metadata": {},
     "output_type": "execute_result"
    }
   ],
   "source": [
    "df1.loc[df1['Book-Title'] == \"Unnatural Exposure\",:]"
   ]
  },
  {
   "cell_type": "code",
   "execution_count": 103,
   "id": "d0a1c60e",
   "metadata": {},
   "outputs": [
    {
     "data": {
      "text/html": [
       "<div>\n",
       "<style scoped>\n",
       "    .dataframe tbody tr th:only-of-type {\n",
       "        vertical-align: middle;\n",
       "    }\n",
       "\n",
       "    .dataframe tbody tr th {\n",
       "        vertical-align: top;\n",
       "    }\n",
       "\n",
       "    .dataframe thead th {\n",
       "        text-align: right;\n",
       "    }\n",
       "</style>\n",
       "<table border=\"1\" class=\"dataframe\">\n",
       "  <thead>\n",
       "    <tr style=\"text-align: right;\">\n",
       "      <th></th>\n",
       "      <th>Book-Title</th>\n",
       "      <th>Total-Ratings</th>\n",
       "      <th>Average Rating</th>\n",
       "      <th>score</th>\n",
       "    </tr>\n",
       "  </thead>\n",
       "  <tbody>\n",
       "    <tr>\n",
       "      <th>238</th>\n",
       "      <td>Hornet's Nest</td>\n",
       "      <td>93</td>\n",
       "      <td>6</td>\n",
       "      <td>6.071821</td>\n",
       "    </tr>\n",
       "  </tbody>\n",
       "</table>\n",
       "</div>"
      ],
      "text/plain": [
       "        Book-Title  Total-Ratings  Average Rating     score\n",
       "238  Hornet's Nest             93               6  6.071821"
      ]
     },
     "execution_count": 103,
     "metadata": {},
     "output_type": "execute_result"
    }
   ],
   "source": [
    "df1.loc[df1['Book-Title'] == \"Hornet's Nest\",:]"
   ]
  },
  {
   "cell_type": "code",
   "execution_count": 104,
   "id": "a04a98dc",
   "metadata": {},
   "outputs": [
    {
     "data": {
      "text/html": [
       "<div>\n",
       "<style scoped>\n",
       "    .dataframe tbody tr th:only-of-type {\n",
       "        vertical-align: middle;\n",
       "    }\n",
       "\n",
       "    .dataframe tbody tr th {\n",
       "        vertical-align: top;\n",
       "    }\n",
       "\n",
       "    .dataframe thead th {\n",
       "        text-align: right;\n",
       "    }\n",
       "</style>\n",
       "<table border=\"1\" class=\"dataframe\">\n",
       "  <thead>\n",
       "    <tr style=\"text-align: right;\">\n",
       "      <th></th>\n",
       "      <th>Book-Title</th>\n",
       "      <th>Total-Ratings</th>\n",
       "      <th>Average Rating</th>\n",
       "      <th>score</th>\n",
       "    </tr>\n",
       "  </thead>\n",
       "  <tbody>\n",
       "    <tr>\n",
       "      <th>190</th>\n",
       "      <td>Back Roads</td>\n",
       "      <td>102</td>\n",
       "      <td>7</td>\n",
       "      <td>7.019051</td>\n",
       "    </tr>\n",
       "  </tbody>\n",
       "</table>\n",
       "</div>"
      ],
      "text/plain": [
       "     Book-Title  Total-Ratings  Average Rating     score\n",
       "190  Back Roads            102               7  7.019051"
      ]
     },
     "execution_count": 104,
     "metadata": {},
     "output_type": "execute_result"
    }
   ],
   "source": [
    "df1.loc[df1['Book-Title'] == \"Back Roads\",:]"
   ]
  },
  {
   "cell_type": "code",
   "execution_count": 105,
   "id": "0e0e92a8",
   "metadata": {},
   "outputs": [
    {
     "data": {
      "text/html": [
       "<div>\n",
       "<style scoped>\n",
       "    .dataframe tbody tr th:only-of-type {\n",
       "        vertical-align: middle;\n",
       "    }\n",
       "\n",
       "    .dataframe tbody tr th {\n",
       "        vertical-align: top;\n",
       "    }\n",
       "\n",
       "    .dataframe thead th {\n",
       "        text-align: right;\n",
       "    }\n",
       "</style>\n",
       "<table border=\"1\" class=\"dataframe\">\n",
       "  <thead>\n",
       "    <tr style=\"text-align: right;\">\n",
       "      <th></th>\n",
       "      <th>Book-Title</th>\n",
       "      <th>Total-Ratings</th>\n",
       "      <th>Average Rating</th>\n",
       "      <th>score</th>\n",
       "    </tr>\n",
       "  </thead>\n",
       "  <tbody>\n",
       "    <tr>\n",
       "      <th>305</th>\n",
       "      <td>Pretend You Don't See Her</td>\n",
       "      <td>80</td>\n",
       "      <td>8</td>\n",
       "      <td>7.965159</td>\n",
       "    </tr>\n",
       "  </tbody>\n",
       "</table>\n",
       "</div>"
      ],
      "text/plain": [
       "                    Book-Title  Total-Ratings  Average Rating     score\n",
       "305  Pretend You Don't See Her             80               8  7.965159"
      ]
     },
     "execution_count": 105,
     "metadata": {},
     "output_type": "execute_result"
    }
   ],
   "source": [
    "df1.loc[df1['Book-Title'] == \"Pretend You Don't See Her\",:]"
   ]
  },
  {
   "cell_type": "code",
   "execution_count": 106,
   "id": "960e4303",
   "metadata": {},
   "outputs": [
    {
     "data": {
      "text/html": [
       "<div>\n",
       "<style scoped>\n",
       "    .dataframe tbody tr th:only-of-type {\n",
       "        vertical-align: middle;\n",
       "    }\n",
       "\n",
       "    .dataframe tbody tr th {\n",
       "        vertical-align: top;\n",
       "    }\n",
       "\n",
       "    .dataframe thead th {\n",
       "        text-align: right;\n",
       "    }\n",
       "</style>\n",
       "<table border=\"1\" class=\"dataframe\">\n",
       "  <thead>\n",
       "    <tr style=\"text-align: right;\">\n",
       "      <th></th>\n",
       "      <th>Book-Title</th>\n",
       "      <th>Total-Ratings</th>\n",
       "      <th>Average Rating</th>\n",
       "      <th>score</th>\n",
       "    </tr>\n",
       "  </thead>\n",
       "  <tbody>\n",
       "    <tr>\n",
       "      <th>27</th>\n",
       "      <td>Good in Bed</td>\n",
       "      <td>247</td>\n",
       "      <td>8</td>\n",
       "      <td>7.988248</td>\n",
       "    </tr>\n",
       "  </tbody>\n",
       "</table>\n",
       "</div>"
      ],
      "text/plain": [
       "     Book-Title  Total-Ratings  Average Rating     score\n",
       "27  Good in Bed            247               8  7.988248"
      ]
     },
     "execution_count": 106,
     "metadata": {},
     "output_type": "execute_result"
    }
   ],
   "source": [
    "df1.loc[df1['Book-Title'] == \"Good in Bed\",:]"
   ]
  },
  {
   "cell_type": "code",
   "execution_count": 107,
   "id": "b814c305",
   "metadata": {},
   "outputs": [
    {
     "data": {
      "text/html": [
       "<div>\n",
       "<style scoped>\n",
       "    .dataframe tbody tr th:only-of-type {\n",
       "        vertical-align: middle;\n",
       "    }\n",
       "\n",
       "    .dataframe tbody tr th {\n",
       "        vertical-align: top;\n",
       "    }\n",
       "\n",
       "    .dataframe thead th {\n",
       "        text-align: right;\n",
       "    }\n",
       "</style>\n",
       "<table border=\"1\" class=\"dataframe\">\n",
       "  <thead>\n",
       "    <tr style=\"text-align: right;\">\n",
       "      <th></th>\n",
       "      <th>Book-Title</th>\n",
       "      <th>Total-Ratings</th>\n",
       "      <th>Average Rating</th>\n",
       "      <th>score</th>\n",
       "    </tr>\n",
       "  </thead>\n",
       "  <tbody>\n",
       "    <tr>\n",
       "      <th>99</th>\n",
       "      <td>When the Wind Blows</td>\n",
       "      <td>144</td>\n",
       "      <td>7</td>\n",
       "      <td>7.013681</td>\n",
       "    </tr>\n",
       "  </tbody>\n",
       "</table>\n",
       "</div>"
      ],
      "text/plain": [
       "             Book-Title  Total-Ratings  Average Rating     score\n",
       "99  When the Wind Blows            144               7  7.013681"
      ]
     },
     "execution_count": 107,
     "metadata": {},
     "output_type": "execute_result"
    }
   ],
   "source": [
    "df1.loc[df1['Book-Title'] == \"When the Wind Blows\",:]"
   ]
  },
  {
   "cell_type": "code",
   "execution_count": 108,
   "id": "e1ea2b3a",
   "metadata": {},
   "outputs": [
    {
     "data": {
      "text/html": [
       "<div>\n",
       "<style scoped>\n",
       "    .dataframe tbody tr th:only-of-type {\n",
       "        vertical-align: middle;\n",
       "    }\n",
       "\n",
       "    .dataframe tbody tr th {\n",
       "        vertical-align: top;\n",
       "    }\n",
       "\n",
       "    .dataframe thead th {\n",
       "        text-align: right;\n",
       "    }\n",
       "</style>\n",
       "<table border=\"1\" class=\"dataframe\">\n",
       "  <thead>\n",
       "    <tr style=\"text-align: right;\">\n",
       "      <th></th>\n",
       "      <th>Book-Title</th>\n",
       "      <th>Total-Ratings</th>\n",
       "      <th>Average Rating</th>\n",
       "      <th>score</th>\n",
       "    </tr>\n",
       "  </thead>\n",
       "  <tbody>\n",
       "    <tr>\n",
       "      <th>199</th>\n",
       "      <td>Deception Point</td>\n",
       "      <td>100</td>\n",
       "      <td>7</td>\n",
       "      <td>7.019414</td>\n",
       "    </tr>\n",
       "  </tbody>\n",
       "</table>\n",
       "</div>"
      ],
      "text/plain": [
       "          Book-Title  Total-Ratings  Average Rating     score\n",
       "199  Deception Point            100               7  7.019414"
      ]
     },
     "execution_count": 108,
     "metadata": {},
     "output_type": "execute_result"
    }
   ],
   "source": [
    "df1.loc[df1['Book-Title'] == \"Deception Point\",:]"
   ]
  },
  {
   "cell_type": "code",
   "execution_count": 109,
   "id": "ec82d683",
   "metadata": {},
   "outputs": [
    {
     "data": {
      "text/html": [
       "<div>\n",
       "<style scoped>\n",
       "    .dataframe tbody tr th:only-of-type {\n",
       "        vertical-align: middle;\n",
       "    }\n",
       "\n",
       "    .dataframe tbody tr th {\n",
       "        vertical-align: top;\n",
       "    }\n",
       "\n",
       "    .dataframe thead th {\n",
       "        text-align: right;\n",
       "    }\n",
       "</style>\n",
       "<table border=\"1\" class=\"dataframe\">\n",
       "  <thead>\n",
       "    <tr style=\"text-align: right;\">\n",
       "      <th></th>\n",
       "      <th>Book-Title</th>\n",
       "      <th>Total-Ratings</th>\n",
       "      <th>Average Rating</th>\n",
       "      <th>score</th>\n",
       "    </tr>\n",
       "  </thead>\n",
       "  <tbody>\n",
       "    <tr>\n",
       "      <th>90</th>\n",
       "      <td>2nd Chance</td>\n",
       "      <td>150</td>\n",
       "      <td>7</td>\n",
       "      <td>7.013152</td>\n",
       "    </tr>\n",
       "  </tbody>\n",
       "</table>\n",
       "</div>"
      ],
      "text/plain": [
       "    Book-Title  Total-Ratings  Average Rating     score\n",
       "90  2nd Chance            150               7  7.013152"
      ]
     },
     "execution_count": 109,
     "metadata": {},
     "output_type": "execute_result"
    }
   ],
   "source": [
    "df1.loc[df1['Book-Title'] == \"2nd Chance\",:]"
   ]
  },
  {
   "cell_type": "code",
   "execution_count": 110,
   "id": "ac6cb2a4",
   "metadata": {},
   "outputs": [
    {
     "data": {
      "text/html": [
       "<div>\n",
       "<style scoped>\n",
       "    .dataframe tbody tr th:only-of-type {\n",
       "        vertical-align: middle;\n",
       "    }\n",
       "\n",
       "    .dataframe tbody tr th {\n",
       "        vertical-align: top;\n",
       "    }\n",
       "\n",
       "    .dataframe thead th {\n",
       "        text-align: right;\n",
       "    }\n",
       "</style>\n",
       "<table border=\"1\" class=\"dataframe\">\n",
       "  <thead>\n",
       "    <tr style=\"text-align: right;\">\n",
       "      <th></th>\n",
       "      <th>Book-Title</th>\n",
       "      <th>Total-Ratings</th>\n",
       "      <th>Average Rating</th>\n",
       "      <th>score</th>\n",
       "    </tr>\n",
       "  </thead>\n",
       "  <tbody>\n",
       "    <tr>\n",
       "      <th>273</th>\n",
       "      <td>Whispers</td>\n",
       "      <td>86</td>\n",
       "      <td>7</td>\n",
       "      <td>7.022401</td>\n",
       "    </tr>\n",
       "  </tbody>\n",
       "</table>\n",
       "</div>"
      ],
      "text/plain": [
       "    Book-Title  Total-Ratings  Average Rating     score\n",
       "273   Whispers             86               7  7.022401"
      ]
     },
     "execution_count": 110,
     "metadata": {},
     "output_type": "execute_result"
    }
   ],
   "source": [
    "df1.loc[df1['Book-Title'] == \"Whispers\",:]"
   ]
  },
  {
   "cell_type": "code",
   "execution_count": 111,
   "id": "4e6d84a1",
   "metadata": {},
   "outputs": [
    {
     "data": {
      "text/html": [
       "<div>\n",
       "<style scoped>\n",
       "    .dataframe tbody tr th:only-of-type {\n",
       "        vertical-align: middle;\n",
       "    }\n",
       "\n",
       "    .dataframe tbody tr th {\n",
       "        vertical-align: top;\n",
       "    }\n",
       "\n",
       "    .dataframe thead th {\n",
       "        text-align: right;\n",
       "    }\n",
       "</style>\n",
       "<table border=\"1\" class=\"dataframe\">\n",
       "  <thead>\n",
       "    <tr style=\"text-align: right;\">\n",
       "      <th></th>\n",
       "      <th>Book-Title</th>\n",
       "      <th>Total-Ratings</th>\n",
       "      <th>Average Rating</th>\n",
       "      <th>score</th>\n",
       "    </tr>\n",
       "  </thead>\n",
       "  <tbody>\n",
       "    <tr>\n",
       "      <th>151</th>\n",
       "      <td>Along Came a Spider (Alex Cross Novels)</td>\n",
       "      <td>118</td>\n",
       "      <td>8</td>\n",
       "      <td>7.975923</td>\n",
       "    </tr>\n",
       "  </tbody>\n",
       "</table>\n",
       "</div>"
      ],
      "text/plain": [
       "                                  Book-Title  Total-Ratings  Average Rating  \\\n",
       "151  Along Came a Spider (Alex Cross Novels)            118               8   \n",
       "\n",
       "        score  \n",
       "151  7.975923  "
      ]
     },
     "execution_count": 111,
     "metadata": {},
     "output_type": "execute_result"
    }
   ],
   "source": [
    "df1.loc[df1['Book-Title'] == \"Along Came a Spider (Alex Cross Novels)\",:]"
   ]
  },
  {
   "cell_type": "code",
   "execution_count": 112,
   "id": "ad7d5c41",
   "metadata": {},
   "outputs": [
    {
     "data": {
      "text/html": [
       "<div>\n",
       "<style scoped>\n",
       "    .dataframe tbody tr th:only-of-type {\n",
       "        vertical-align: middle;\n",
       "    }\n",
       "\n",
       "    .dataframe tbody tr th {\n",
       "        vertical-align: top;\n",
       "    }\n",
       "\n",
       "    .dataframe thead th {\n",
       "        text-align: right;\n",
       "    }\n",
       "</style>\n",
       "<table border=\"1\" class=\"dataframe\">\n",
       "  <thead>\n",
       "    <tr style=\"text-align: right;\">\n",
       "      <th></th>\n",
       "      <th>Book-Title</th>\n",
       "      <th>Total-Ratings</th>\n",
       "      <th>Average Rating</th>\n",
       "      <th>score</th>\n",
       "    </tr>\n",
       "  </thead>\n",
       "  <tbody>\n",
       "    <tr>\n",
       "      <th>143</th>\n",
       "      <td>The Bad Beginning (A Series of Unfortunate Eve...</td>\n",
       "      <td>121</td>\n",
       "      <td>7</td>\n",
       "      <td>7.016179</td>\n",
       "    </tr>\n",
       "  </tbody>\n",
       "</table>\n",
       "</div>"
      ],
      "text/plain": [
       "                                            Book-Title  Total-Ratings  \\\n",
       "143  The Bad Beginning (A Series of Unfortunate Eve...            121   \n",
       "\n",
       "     Average Rating     score  \n",
       "143               7  7.016179  "
      ]
     },
     "execution_count": 112,
     "metadata": {},
     "output_type": "execute_result"
    }
   ],
   "source": [
    "df1.loc[df1['Book-Title'] == \"The Bad Beginning (A Series of Unfortunate Events, Book 1)\",:]"
   ]
  },
  {
   "cell_type": "code",
   "execution_count": 113,
   "id": "ad71803f",
   "metadata": {},
   "outputs": [
    {
     "data": {
      "text/html": [
       "<div>\n",
       "<style scoped>\n",
       "    .dataframe tbody tr th:only-of-type {\n",
       "        vertical-align: middle;\n",
       "    }\n",
       "\n",
       "    .dataframe tbody tr th {\n",
       "        vertical-align: top;\n",
       "    }\n",
       "\n",
       "    .dataframe thead th {\n",
       "        text-align: right;\n",
       "    }\n",
       "</style>\n",
       "<table border=\"1\" class=\"dataframe\">\n",
       "  <thead>\n",
       "    <tr style=\"text-align: right;\">\n",
       "      <th></th>\n",
       "      <th>Book-Title</th>\n",
       "      <th>Total-Ratings</th>\n",
       "      <th>Average Rating</th>\n",
       "      <th>score</th>\n",
       "    </tr>\n",
       "  </thead>\n",
       "  <tbody>\n",
       "    <tr>\n",
       "      <th>156</th>\n",
       "      <td>Cradle and All</td>\n",
       "      <td>115</td>\n",
       "      <td>7</td>\n",
       "      <td>7.016987</td>\n",
       "    </tr>\n",
       "  </tbody>\n",
       "</table>\n",
       "</div>"
      ],
      "text/plain": [
       "         Book-Title  Total-Ratings  Average Rating     score\n",
       "156  Cradle and All            115               7  7.016987"
      ]
     },
     "execution_count": 113,
     "metadata": {},
     "output_type": "execute_result"
    }
   ],
   "source": [
    "df1.loc[df1['Book-Title'] == \"Cradle and All\",:]"
   ]
  },
  {
   "cell_type": "code",
   "execution_count": 114,
   "id": "9d2a45b8",
   "metadata": {},
   "outputs": [
    {
     "data": {
      "text/html": [
       "<div>\n",
       "<style scoped>\n",
       "    .dataframe tbody tr th:only-of-type {\n",
       "        vertical-align: middle;\n",
       "    }\n",
       "\n",
       "    .dataframe tbody tr th {\n",
       "        vertical-align: top;\n",
       "    }\n",
       "\n",
       "    .dataframe thead th {\n",
       "        text-align: right;\n",
       "    }\n",
       "</style>\n",
       "<table border=\"1\" class=\"dataframe\">\n",
       "  <thead>\n",
       "    <tr style=\"text-align: right;\">\n",
       "      <th></th>\n",
       "      <th>Book-Title</th>\n",
       "      <th>Total-Ratings</th>\n",
       "      <th>Average Rating</th>\n",
       "      <th>score</th>\n",
       "    </tr>\n",
       "  </thead>\n",
       "  <tbody>\n",
       "    <tr>\n",
       "      <th>93</th>\n",
       "      <td>Violets Are Blue</td>\n",
       "      <td>148</td>\n",
       "      <td>7</td>\n",
       "      <td>7.013324</td>\n",
       "    </tr>\n",
       "  </tbody>\n",
       "</table>\n",
       "</div>"
      ],
      "text/plain": [
       "          Book-Title  Total-Ratings  Average Rating     score\n",
       "93  Violets Are Blue            148               7  7.013324"
      ]
     },
     "execution_count": 114,
     "metadata": {},
     "output_type": "execute_result"
    }
   ],
   "source": [
    "df1.loc[df1['Book-Title'] == \"Violets Are Blue\",:]"
   ]
  },
  {
   "cell_type": "code",
   "execution_count": 115,
   "id": "eb8ee1b0",
   "metadata": {},
   "outputs": [
    {
     "data": {
      "text/html": [
       "<div>\n",
       "<style scoped>\n",
       "    .dataframe tbody tr th:only-of-type {\n",
       "        vertical-align: middle;\n",
       "    }\n",
       "\n",
       "    .dataframe tbody tr th {\n",
       "        vertical-align: top;\n",
       "    }\n",
       "\n",
       "    .dataframe thead th {\n",
       "        text-align: right;\n",
       "    }\n",
       "</style>\n",
       "<table border=\"1\" class=\"dataframe\">\n",
       "  <thead>\n",
       "    <tr style=\"text-align: right;\">\n",
       "      <th></th>\n",
       "      <th>Book-Title</th>\n",
       "      <th>Total-Ratings</th>\n",
       "      <th>Average Rating</th>\n",
       "      <th>score</th>\n",
       "    </tr>\n",
       "  </thead>\n",
       "  <tbody>\n",
       "    <tr>\n",
       "      <th>306</th>\n",
       "      <td>Chosen Prey</td>\n",
       "      <td>80</td>\n",
       "      <td>7</td>\n",
       "      <td>7.023982</td>\n",
       "    </tr>\n",
       "  </tbody>\n",
       "</table>\n",
       "</div>"
      ],
      "text/plain": [
       "      Book-Title  Total-Ratings  Average Rating     score\n",
       "306  Chosen Prey             80               7  7.023982"
      ]
     },
     "execution_count": 115,
     "metadata": {},
     "output_type": "execute_result"
    }
   ],
   "source": [
    "df1.loc[df1['Book-Title'] == \"Chosen Prey\",:]"
   ]
  },
  {
   "cell_type": "code",
   "execution_count": 116,
   "id": "da198318",
   "metadata": {},
   "outputs": [
    {
     "data": {
      "text/html": [
       "<div>\n",
       "<style scoped>\n",
       "    .dataframe tbody tr th:only-of-type {\n",
       "        vertical-align: middle;\n",
       "    }\n",
       "\n",
       "    .dataframe tbody tr th {\n",
       "        vertical-align: top;\n",
       "    }\n",
       "\n",
       "    .dataframe thead th {\n",
       "        text-align: right;\n",
       "    }\n",
       "</style>\n",
       "<table border=\"1\" class=\"dataframe\">\n",
       "  <thead>\n",
       "    <tr style=\"text-align: right;\">\n",
       "      <th></th>\n",
       "      <th>Book-Title</th>\n",
       "      <th>Total-Ratings</th>\n",
       "      <th>Average Rating</th>\n",
       "      <th>score</th>\n",
       "    </tr>\n",
       "  </thead>\n",
       "  <tbody>\n",
       "    <tr>\n",
       "      <th>241</th>\n",
       "      <td>Siddhartha</td>\n",
       "      <td>92</td>\n",
       "      <td>8</td>\n",
       "      <td>7.969469</td>\n",
       "    </tr>\n",
       "  </tbody>\n",
       "</table>\n",
       "</div>"
      ],
      "text/plain": [
       "     Book-Title  Total-Ratings  Average Rating     score\n",
       "241  Siddhartha             92               8  7.969469"
      ]
     },
     "execution_count": 116,
     "metadata": {},
     "output_type": "execute_result"
    }
   ],
   "source": [
    "df1.loc[df1['Book-Title'] == \"Siddhartha\",:]"
   ]
  },
  {
   "cell_type": "code",
   "execution_count": 117,
   "id": "94069839",
   "metadata": {},
   "outputs": [
    {
     "data": {
      "text/html": [
       "<div>\n",
       "<style scoped>\n",
       "    .dataframe tbody tr th:only-of-type {\n",
       "        vertical-align: middle;\n",
       "    }\n",
       "\n",
       "    .dataframe tbody tr th {\n",
       "        vertical-align: top;\n",
       "    }\n",
       "\n",
       "    .dataframe thead th {\n",
       "        text-align: right;\n",
       "    }\n",
       "</style>\n",
       "<table border=\"1\" class=\"dataframe\">\n",
       "  <thead>\n",
       "    <tr style=\"text-align: right;\">\n",
       "      <th></th>\n",
       "      <th>Book-Title</th>\n",
       "      <th>Total-Ratings</th>\n",
       "      <th>Average Rating</th>\n",
       "      <th>score</th>\n",
       "    </tr>\n",
       "  </thead>\n",
       "  <tbody>\n",
       "    <tr>\n",
       "      <th>20</th>\n",
       "      <td>To Kill a Mockingbird</td>\n",
       "      <td>267</td>\n",
       "      <td>8</td>\n",
       "      <td>7.989112</td>\n",
       "    </tr>\n",
       "  </tbody>\n",
       "</table>\n",
       "</div>"
      ],
      "text/plain": [
       "               Book-Title  Total-Ratings  Average Rating     score\n",
       "20  To Kill a Mockingbird            267               8  7.989112"
      ]
     },
     "execution_count": 117,
     "metadata": {},
     "output_type": "execute_result"
    }
   ],
   "source": [
    "df1.loc[df1['Book-Title'] == \"To Kill a Mockingbird\",:]"
   ]
  },
  {
   "cell_type": "code",
   "execution_count": 118,
   "id": "0cb3f332",
   "metadata": {},
   "outputs": [
    {
     "data": {
      "text/html": [
       "<div>\n",
       "<style scoped>\n",
       "    .dataframe tbody tr th:only-of-type {\n",
       "        vertical-align: middle;\n",
       "    }\n",
       "\n",
       "    .dataframe tbody tr th {\n",
       "        vertical-align: top;\n",
       "    }\n",
       "\n",
       "    .dataframe thead th {\n",
       "        text-align: right;\n",
       "    }\n",
       "</style>\n",
       "<table border=\"1\" class=\"dataframe\">\n",
       "  <thead>\n",
       "    <tr style=\"text-align: right;\">\n",
       "      <th></th>\n",
       "      <th>Book-Title</th>\n",
       "      <th>Total-Ratings</th>\n",
       "      <th>Average Rating</th>\n",
       "      <th>score</th>\n",
       "    </tr>\n",
       "  </thead>\n",
       "  <tbody>\n",
       "    <tr>\n",
       "      <th>226</th>\n",
       "      <td>Flesh and Blood</td>\n",
       "      <td>96</td>\n",
       "      <td>7</td>\n",
       "      <td>7.020183</td>\n",
       "    </tr>\n",
       "  </tbody>\n",
       "</table>\n",
       "</div>"
      ],
      "text/plain": [
       "          Book-Title  Total-Ratings  Average Rating     score\n",
       "226  Flesh and Blood             96               7  7.020183"
      ]
     },
     "execution_count": 118,
     "metadata": {},
     "output_type": "execute_result"
    }
   ],
   "source": [
    "df1.loc[df1['Book-Title'] == \"Flesh and Blood\",:]"
   ]
  },
  {
   "cell_type": "code",
   "execution_count": 119,
   "id": "5d61714d",
   "metadata": {},
   "outputs": [
    {
     "data": {
      "text/html": [
       "<div>\n",
       "<style scoped>\n",
       "    .dataframe tbody tr th:only-of-type {\n",
       "        vertical-align: middle;\n",
       "    }\n",
       "\n",
       "    .dataframe tbody tr th {\n",
       "        vertical-align: top;\n",
       "    }\n",
       "\n",
       "    .dataframe thead th {\n",
       "        text-align: right;\n",
       "    }\n",
       "</style>\n",
       "<table border=\"1\" class=\"dataframe\">\n",
       "  <thead>\n",
       "    <tr style=\"text-align: right;\">\n",
       "      <th></th>\n",
       "      <th>Book-Title</th>\n",
       "      <th>Total-Ratings</th>\n",
       "      <th>Average Rating</th>\n",
       "      <th>score</th>\n",
       "    </tr>\n",
       "  </thead>\n",
       "  <tbody>\n",
       "    <tr>\n",
       "      <th>201</th>\n",
       "      <td>The Talisman</td>\n",
       "      <td>99</td>\n",
       "      <td>8</td>\n",
       "      <td>7.971524</td>\n",
       "    </tr>\n",
       "  </tbody>\n",
       "</table>\n",
       "</div>"
      ],
      "text/plain": [
       "       Book-Title  Total-Ratings  Average Rating     score\n",
       "201  The Talisman             99               8  7.971524"
      ]
     },
     "execution_count": 119,
     "metadata": {},
     "output_type": "execute_result"
    }
   ],
   "source": [
    "df1.loc[df1['Book-Title'] == \"The Talisman\",:]"
   ]
  },
  {
   "cell_type": "code",
   "execution_count": 120,
   "id": "07a6fdc4",
   "metadata": {},
   "outputs": [
    {
     "data": {
      "text/html": [
       "<div>\n",
       "<style scoped>\n",
       "    .dataframe tbody tr th:only-of-type {\n",
       "        vertical-align: middle;\n",
       "    }\n",
       "\n",
       "    .dataframe tbody tr th {\n",
       "        vertical-align: top;\n",
       "    }\n",
       "\n",
       "    .dataframe thead th {\n",
       "        text-align: right;\n",
       "    }\n",
       "</style>\n",
       "<table border=\"1\" class=\"dataframe\">\n",
       "  <thead>\n",
       "    <tr style=\"text-align: right;\">\n",
       "      <th></th>\n",
       "      <th>Book-Title</th>\n",
       "      <th>Total-Ratings</th>\n",
       "      <th>Average Rating</th>\n",
       "      <th>score</th>\n",
       "    </tr>\n",
       "  </thead>\n",
       "  <tbody>\n",
       "    <tr>\n",
       "      <th>193</th>\n",
       "      <td>Cause of Death</td>\n",
       "      <td>100</td>\n",
       "      <td>7</td>\n",
       "      <td>7.019414</td>\n",
       "    </tr>\n",
       "  </tbody>\n",
       "</table>\n",
       "</div>"
      ],
      "text/plain": [
       "         Book-Title  Total-Ratings  Average Rating     score\n",
       "193  Cause of Death            100               7  7.019414"
      ]
     },
     "execution_count": 120,
     "metadata": {},
     "output_type": "execute_result"
    }
   ],
   "source": [
    "df1.loc[df1['Book-Title'] == \"Cause of Death\",:]"
   ]
  },
  {
   "cell_type": "code",
   "execution_count": 121,
   "id": "7d21a828",
   "metadata": {},
   "outputs": [
    {
     "data": {
      "text/html": [
       "<div>\n",
       "<style scoped>\n",
       "    .dataframe tbody tr th:only-of-type {\n",
       "        vertical-align: middle;\n",
       "    }\n",
       "\n",
       "    .dataframe tbody tr th {\n",
       "        vertical-align: top;\n",
       "    }\n",
       "\n",
       "    .dataframe thead th {\n",
       "        text-align: right;\n",
       "    }\n",
       "</style>\n",
       "<table border=\"1\" class=\"dataframe\">\n",
       "  <thead>\n",
       "    <tr style=\"text-align: right;\">\n",
       "      <th></th>\n",
       "      <th>Book-Title</th>\n",
       "      <th>Total-Ratings</th>\n",
       "      <th>Average Rating</th>\n",
       "      <th>score</th>\n",
       "    </tr>\n",
       "  </thead>\n",
       "  <tbody>\n",
       "    <tr>\n",
       "      <th>31</th>\n",
       "      <td>1st to Die: A Novel</td>\n",
       "      <td>236</td>\n",
       "      <td>7</td>\n",
       "      <td>7.008458</td>\n",
       "    </tr>\n",
       "  </tbody>\n",
       "</table>\n",
       "</div>"
      ],
      "text/plain": [
       "             Book-Title  Total-Ratings  Average Rating     score\n",
       "31  1st to Die: A Novel            236               7  7.008458"
      ]
     },
     "execution_count": 121,
     "metadata": {},
     "output_type": "execute_result"
    }
   ],
   "source": [
    "df1.loc[df1['Book-Title'] == \"1st to Die: A Novel\",:]"
   ]
  },
  {
   "cell_type": "code",
   "execution_count": 122,
   "id": "e1baf6de",
   "metadata": {},
   "outputs": [
    {
     "data": {
      "text/html": [
       "<div>\n",
       "<style scoped>\n",
       "    .dataframe tbody tr th:only-of-type {\n",
       "        vertical-align: middle;\n",
       "    }\n",
       "\n",
       "    .dataframe tbody tr th {\n",
       "        vertical-align: top;\n",
       "    }\n",
       "\n",
       "    .dataframe thead th {\n",
       "        text-align: right;\n",
       "    }\n",
       "</style>\n",
       "<table border=\"1\" class=\"dataframe\">\n",
       "  <thead>\n",
       "    <tr style=\"text-align: right;\">\n",
       "      <th></th>\n",
       "      <th>Book-Title</th>\n",
       "      <th>Total-Ratings</th>\n",
       "      <th>Average Rating</th>\n",
       "      <th>score</th>\n",
       "    </tr>\n",
       "  </thead>\n",
       "  <tbody>\n",
       "    <tr>\n",
       "      <th>280</th>\n",
       "      <td>Three Fates</td>\n",
       "      <td>85</td>\n",
       "      <td>8</td>\n",
       "      <td>7.967094</td>\n",
       "    </tr>\n",
       "  </tbody>\n",
       "</table>\n",
       "</div>"
      ],
      "text/plain": [
       "      Book-Title  Total-Ratings  Average Rating     score\n",
       "280  Three Fates             85               8  7.967094"
      ]
     },
     "execution_count": 122,
     "metadata": {},
     "output_type": "execute_result"
    }
   ],
   "source": [
    "df1.loc[df1['Book-Title'] == \"Three Fates\",:]"
   ]
  },
  {
   "cell_type": "code",
   "execution_count": 123,
   "id": "222da9f3",
   "metadata": {},
   "outputs": [
    {
     "data": {
      "text/html": [
       "<div>\n",
       "<style scoped>\n",
       "    .dataframe tbody tr th:only-of-type {\n",
       "        vertical-align: middle;\n",
       "    }\n",
       "\n",
       "    .dataframe tbody tr th {\n",
       "        vertical-align: top;\n",
       "    }\n",
       "\n",
       "    .dataframe thead th {\n",
       "        text-align: right;\n",
       "    }\n",
       "</style>\n",
       "<table border=\"1\" class=\"dataframe\">\n",
       "  <thead>\n",
       "    <tr style=\"text-align: right;\">\n",
       "      <th></th>\n",
       "      <th>Book-Title</th>\n",
       "      <th>Total-Ratings</th>\n",
       "      <th>Average Rating</th>\n",
       "      <th>score</th>\n",
       "    </tr>\n",
       "  </thead>\n",
       "  <tbody>\n",
       "    <tr>\n",
       "      <th>53</th>\n",
       "      <td>The Rainmaker</td>\n",
       "      <td>194</td>\n",
       "      <td>7</td>\n",
       "      <td>7.010244</td>\n",
       "    </tr>\n",
       "  </tbody>\n",
       "</table>\n",
       "</div>"
      ],
      "text/plain": [
       "       Book-Title  Total-Ratings  Average Rating     score\n",
       "53  The Rainmaker            194               7  7.010244"
      ]
     },
     "execution_count": 123,
     "metadata": {},
     "output_type": "execute_result"
    }
   ],
   "source": [
    "df1.loc[df1['Book-Title'] == \"The Rainmaker\",:]"
   ]
  },
  {
   "cell_type": "code",
   "execution_count": 124,
   "id": "4398ee4f",
   "metadata": {},
   "outputs": [
    {
     "data": {
      "text/html": [
       "<div>\n",
       "<style scoped>\n",
       "    .dataframe tbody tr th:only-of-type {\n",
       "        vertical-align: middle;\n",
       "    }\n",
       "\n",
       "    .dataframe tbody tr th {\n",
       "        vertical-align: top;\n",
       "    }\n",
       "\n",
       "    .dataframe thead th {\n",
       "        text-align: right;\n",
       "    }\n",
       "</style>\n",
       "<table border=\"1\" class=\"dataframe\">\n",
       "  <thead>\n",
       "    <tr style=\"text-align: right;\">\n",
       "      <th></th>\n",
       "      <th>Book-Title</th>\n",
       "      <th>Total-Ratings</th>\n",
       "      <th>Average Rating</th>\n",
       "      <th>score</th>\n",
       "    </tr>\n",
       "  </thead>\n",
       "  <tbody>\n",
       "    <tr>\n",
       "      <th>239</th>\n",
       "      <td>Kiss the Girls</td>\n",
       "      <td>93</td>\n",
       "      <td>7</td>\n",
       "      <td>7.020801</td>\n",
       "    </tr>\n",
       "  </tbody>\n",
       "</table>\n",
       "</div>"
      ],
      "text/plain": [
       "         Book-Title  Total-Ratings  Average Rating     score\n",
       "239  Kiss the Girls             93               7  7.020801"
      ]
     },
     "execution_count": 124,
     "metadata": {},
     "output_type": "execute_result"
    }
   ],
   "source": [
    "df1.loc[df1['Book-Title'] == \"Kiss the Girls\",:]"
   ]
  },
  {
   "cell_type": "code",
   "execution_count": 38,
   "id": "e017e680",
   "metadata": {},
   "outputs": [
    {
     "name": "stdout",
     "output_type": "stream",
     "text": [
      "Input Book:\n",
      "Harry Potter and the Goblet of Fire (Book 4)\n",
      "\n",
      "RECOMMENDATIONS:\n",
      "\n",
      "The Lovely Bones: A Novel\n",
      "The Da Vinci Code\n",
      "The Red Tent (Bestselling Backlist)\n",
      "The Secret Life of Bees\n",
      "Divine Secrets of the Ya-Ya Sisterhood: A Novel\n"
     ]
    }
   ],
   "source": [
    "#Collaborative \n",
    "from sklearn.metrics.pairwise import euclidean_distances\n",
    "\n",
    "#claculates total-ratings each book got and creates a new dataframe having columns bt,isbn,ba,ui,br,tr\n",
    "df = pd.DataFrame(dataset1['Book-Title'].value_counts())\n",
    "df['Total-Ratings'] = df['Book-Title']\n",
    "df['Book-Title'] = df.index\n",
    "df.reset_index(level=0, inplace=True)\n",
    "df = df.drop('index',axis=1)\n",
    "df = dataset1.merge(df, left_on = 'Book-Title', right_on = 'Book-Title', how = 'left')\n",
    "df = df.drop(['Year-Of-Publication','Publisher','Age'], axis=1)\n",
    "#print(df.head(10))\n",
    "popularity_threshold = 80\n",
    "popular_book = df[df['Total-Ratings'] >= popularity_threshold]\n",
    "popular_book = popular_book.reset_index(drop = True)\n",
    "\n",
    "testdf = pd.DataFrame()\n",
    "testdf['ISBN'] = popular_book['ISBN']\n",
    "testdf['Book-Rating'] = popular_book['Book-Rating']\n",
    "testdf['User-ID'] = popular_book['User-ID']\n",
    "testdf = testdf[['User-ID','Book-Rating']].groupby(testdf['ISBN'])\n",
    "#print(testdf.groups) #have the data of users who rated each individual book\n",
    "#print(dataset1.info())\n",
    "\n",
    "listOfDictonaries=[]\n",
    "indexMap = {}\n",
    "reverseIndexMap = {}\n",
    "ptr=0\n",
    "\n",
    "for groupKey in testdf.groups.keys():\n",
    "    tempDict={}\n",
    "    groupDF = testdf.get_group(groupKey)\n",
    "    groupDF= groupDF.reset_index(drop = True)\n",
    "    for i in range(0,len(groupDF)):\n",
    "        tempDict[groupDF.iloc[i,0]] = groupDF.iloc[i,1] #[i,0]=user-id [i,1]=rating\n",
    "    #in tempdict key=userid value=rating\n",
    "    indexMap[ptr]=groupKey #indexMap has isbn values\n",
    "    reverseIndexMap[groupKey] = ptr\n",
    "    ptr=ptr+1\n",
    "    listOfDictonaries.append(tempDict) \n",
    "\n",
    "dictVectorizer = DictVectorizer(sparse=True)\n",
    "vector = dictVectorizer.fit_transform(listOfDictonaries)\n",
    "#print(vector)\n",
    "#pairwiseSimilarity = cosine_similarity(vector)\n",
    "pairwiseSimilarity = euclidean_distances(vector)\n",
    "\n",
    "def printBookDetails(bookID):\n",
    "    print(dataset1[dataset1['ISBN']==bookID]['Book-Title'].values[0])\n",
    "    \n",
    "\n",
    "def getTopRecommandations(bookID):\n",
    "    collaborative = []\n",
    "    row = reverseIndexMap[bookID]\n",
    "    print(\"Input Book:\")\n",
    "    printBookDetails(bookID)\n",
    "    \n",
    "    print(\"\\nRECOMMENDATIONS:\\n\")\n",
    "    \n",
    "    mn = 0\n",
    "    similar = []\n",
    "    for i in np.argsort(pairwiseSimilarity[row])[::-1]:\n",
    "          if dataset1[dataset1['ISBN']==indexMap[i]]['Book-Title'].values[0] not in similar:\n",
    "               \n",
    "                if mn>=5:\n",
    "                      break\n",
    "                mn+=1\n",
    "                similar.append(dataset1[dataset1['ISBN']==indexMap[i]]['Book-Title'].values[0])\n",
    "                printBookDetails(indexMap[i])\n",
    "                collaborative.append(dataset1[dataset1['ISBN']==indexMap[i]]['Book-Title'].values[0])\n",
    "                #collaborative.append(pairwiseSimilarity[i][np.argsort(pairwiseSimilarity[i])[::-1][0]])\n",
    "            \n",
    "    return collaborative\n",
    "\n",
    "k = list(dataset1['Book-Title'])\n",
    "m = list(dataset1['ISBN'])\n",
    "\n",
    "collaborative1 = getTopRecommandations(m[k.index(bookName)])\n",
    "#print(collaborative1)"
   ]
  },
  {
   "cell_type": "code",
   "execution_count": 39,
   "id": "75d8f5ae",
   "metadata": {},
   "outputs": [
    {
     "name": "stdout",
     "output_type": "stream",
     "text": [
      "['The Lovely Bones: A Novel', 'The Da Vinci Code', 'The Red Tent (Bestselling Backlist)', 'The Secret Life of Bees', 'Divine Secrets of the Ya-Ya Sisterhood: A Novel']\n"
     ]
    }
   ],
   "source": [
    "print(collaborative1)"
   ]
  },
  {
   "cell_type": "code",
   "execution_count": 40,
   "id": "969b0b93",
   "metadata": {},
   "outputs": [
    {
     "name": "stdout",
     "output_type": "stream",
     "text": [
      "[\"Harry Potter and the Sorcerer's Stone (Harry Potter (Paperback))\", 'Harry Potter and the Chamber of Secrets (Book 2)', 'Harry Potter and the Prisoner of Azkaban (Book 3)', 'Harry Potter and the Goblet of Fire (Book 4)', 'Harry Potter and the Order of the Phoenix (Book 5)', 'The Lovely Bones: A Novel', 'The Da Vinci Code', 'The Red Tent (Bestselling Backlist)', 'The Secret Life of Bees', 'Divine Secrets of the Ya-Ya Sisterhood: A Novel']\n"
     ]
    }
   ],
   "source": [
    "l=collaborative+collaborative1\n",
    "print(l)"
   ]
  },
  {
   "cell_type": "code",
   "execution_count": 44,
   "id": "ac423fff",
   "metadata": {},
   "outputs": [
    {
     "name": "stdout",
     "output_type": "stream",
     "text": [
      "(13744, 4)\n"
     ]
    }
   ],
   "source": [
    "print(df1.shape)"
   ]
  },
  {
   "cell_type": "code",
   "execution_count": null,
   "id": "85d69118",
   "metadata": {},
   "outputs": [],
   "source": [
    "df1['Book-Title']"
   ]
  },
  {
   "cell_type": "code",
   "execution_count": 63,
   "id": "833aa536",
   "metadata": {},
   "outputs": [
    {
     "name": "stdout",
     "output_type": "stream",
     "text": [
      "11    7.990745\n",
      "Name: score, dtype: float64\n"
     ]
    }
   ],
   "source": [
    "l=[]\n",
    "for i in range(len(collaborative)):\n",
    "    #if df1['Book-Title'] == collaborative[i]:\n",
    "        l.append(df1.loc[df1['Book-Title'] == collaborative[i],:]['score'])\n",
    "print(l[0])   "
   ]
  },
  {
   "cell_type": "code",
   "execution_count": 40,
   "id": "5cbba356",
   "metadata": {},
   "outputs": [
    {
     "data": {
      "text/html": [
       "<div>\n",
       "<style scoped>\n",
       "    .dataframe tbody tr th:only-of-type {\n",
       "        vertical-align: middle;\n",
       "    }\n",
       "\n",
       "    .dataframe tbody tr th {\n",
       "        vertical-align: top;\n",
       "    }\n",
       "\n",
       "    .dataframe thead th {\n",
       "        text-align: right;\n",
       "    }\n",
       "</style>\n",
       "<table border=\"1\" class=\"dataframe\">\n",
       "  <thead>\n",
       "    <tr style=\"text-align: right;\">\n",
       "      <th></th>\n",
       "      <th>Book-Title</th>\n",
       "      <th>Total-Ratings</th>\n",
       "      <th>Average Rating</th>\n",
       "      <th>score</th>\n",
       "    </tr>\n",
       "  </thead>\n",
       "  <tbody>\n",
       "    <tr>\n",
       "      <th>0</th>\n",
       "      <td>The Lovely Bones: A Novel</td>\n",
       "      <td>707</td>\n",
       "      <td>8</td>\n",
       "      <td>7.995841</td>\n",
       "    </tr>\n",
       "  </tbody>\n",
       "</table>\n",
       "</div>"
      ],
      "text/plain": [
       "                  Book-Title  Total-Ratings  Average Rating     score\n",
       "0  The Lovely Bones: A Novel            707               8  7.995841"
      ]
     },
     "execution_count": 40,
     "metadata": {},
     "output_type": "execute_result"
    }
   ],
   "source": [
    "df1.loc[df1['Book-Title'] == \"The Lovely Bones: A Novel\",:]"
   ]
  },
  {
   "cell_type": "code",
   "execution_count": 41,
   "id": "7259f605",
   "metadata": {},
   "outputs": [
    {
     "data": {
      "text/html": [
       "<div>\n",
       "<style scoped>\n",
       "    .dataframe tbody tr th:only-of-type {\n",
       "        vertical-align: middle;\n",
       "    }\n",
       "\n",
       "    .dataframe tbody tr th {\n",
       "        vertical-align: top;\n",
       "    }\n",
       "\n",
       "    .dataframe thead th {\n",
       "        text-align: right;\n",
       "    }\n",
       "</style>\n",
       "<table border=\"1\" class=\"dataframe\">\n",
       "  <thead>\n",
       "    <tr style=\"text-align: right;\">\n",
       "      <th></th>\n",
       "      <th>Book-Title</th>\n",
       "      <th>Total-Ratings</th>\n",
       "      <th>Average Rating</th>\n",
       "      <th>score</th>\n",
       "    </tr>\n",
       "  </thead>\n",
       "  <tbody>\n",
       "    <tr>\n",
       "      <th>2</th>\n",
       "      <td>The Da Vinci Code</td>\n",
       "      <td>495</td>\n",
       "      <td>8</td>\n",
       "      <td>7.994077</td>\n",
       "    </tr>\n",
       "  </tbody>\n",
       "</table>\n",
       "</div>"
      ],
      "text/plain": [
       "          Book-Title  Total-Ratings  Average Rating     score\n",
       "2  The Da Vinci Code            495               8  7.994077"
      ]
     },
     "execution_count": 41,
     "metadata": {},
     "output_type": "execute_result"
    }
   ],
   "source": [
    "df1.loc[df1['Book-Title'] == \"The Da Vinci Code\",:]"
   ]
  },
  {
   "cell_type": "code",
   "execution_count": 42,
   "id": "4521bdd4",
   "metadata": {},
   "outputs": [
    {
     "data": {
      "text/html": [
       "<div>\n",
       "<style scoped>\n",
       "    .dataframe tbody tr th:only-of-type {\n",
       "        vertical-align: middle;\n",
       "    }\n",
       "\n",
       "    .dataframe tbody tr th {\n",
       "        vertical-align: top;\n",
       "    }\n",
       "\n",
       "    .dataframe thead th {\n",
       "        text-align: right;\n",
       "    }\n",
       "</style>\n",
       "<table border=\"1\" class=\"dataframe\">\n",
       "  <thead>\n",
       "    <tr style=\"text-align: right;\">\n",
       "      <th></th>\n",
       "      <th>Book-Title</th>\n",
       "      <th>Total-Ratings</th>\n",
       "      <th>Average Rating</th>\n",
       "      <th>score</th>\n",
       "    </tr>\n",
       "  </thead>\n",
       "  <tbody>\n",
       "    <tr>\n",
       "      <th>5</th>\n",
       "      <td>The Red Tent (Bestselling Backlist)</td>\n",
       "      <td>383</td>\n",
       "      <td>8</td>\n",
       "      <td>7.992367</td>\n",
       "    </tr>\n",
       "  </tbody>\n",
       "</table>\n",
       "</div>"
      ],
      "text/plain": [
       "                            Book-Title  Total-Ratings  Average Rating  \\\n",
       "5  The Red Tent (Bestselling Backlist)            383               8   \n",
       "\n",
       "      score  \n",
       "5  7.992367  "
      ]
     },
     "execution_count": 42,
     "metadata": {},
     "output_type": "execute_result"
    }
   ],
   "source": [
    "df1.loc[df1['Book-Title'] == \"The Red Tent (Bestselling Backlist)\",:]"
   ]
  },
  {
   "cell_type": "code",
   "execution_count": 43,
   "id": "7c3333ba",
   "metadata": {},
   "outputs": [
    {
     "data": {
      "text/html": [
       "<div>\n",
       "<style scoped>\n",
       "    .dataframe tbody tr th:only-of-type {\n",
       "        vertical-align: middle;\n",
       "    }\n",
       "\n",
       "    .dataframe tbody tr th {\n",
       "        vertical-align: top;\n",
       "    }\n",
       "\n",
       "    .dataframe thead th {\n",
       "        text-align: right;\n",
       "    }\n",
       "</style>\n",
       "<table border=\"1\" class=\"dataframe\">\n",
       "  <thead>\n",
       "    <tr style=\"text-align: right;\">\n",
       "      <th></th>\n",
       "      <th>Book-Title</th>\n",
       "      <th>Total-Ratings</th>\n",
       "      <th>Average Rating</th>\n",
       "      <th>score</th>\n",
       "    </tr>\n",
       "  </thead>\n",
       "  <tbody>\n",
       "    <tr>\n",
       "      <th>3</th>\n",
       "      <td>The Secret Life of Bees</td>\n",
       "      <td>413</td>\n",
       "      <td>8</td>\n",
       "      <td>7.992915</td>\n",
       "    </tr>\n",
       "  </tbody>\n",
       "</table>\n",
       "</div>"
      ],
      "text/plain": [
       "                Book-Title  Total-Ratings  Average Rating     score\n",
       "3  The Secret Life of Bees            413               8  7.992915"
      ]
     },
     "execution_count": 43,
     "metadata": {},
     "output_type": "execute_result"
    }
   ],
   "source": [
    "df1.loc[df1['Book-Title'] == \"The Secret Life of Bees\",:]"
   ]
  },
  {
   "cell_type": "code",
   "execution_count": 44,
   "id": "54e19f6d",
   "metadata": {},
   "outputs": [
    {
     "data": {
      "text/html": [
       "<div>\n",
       "<style scoped>\n",
       "    .dataframe tbody tr th:only-of-type {\n",
       "        vertical-align: middle;\n",
       "    }\n",
       "\n",
       "    .dataframe tbody tr th {\n",
       "        vertical-align: top;\n",
       "    }\n",
       "\n",
       "    .dataframe thead th {\n",
       "        text-align: right;\n",
       "    }\n",
       "</style>\n",
       "<table border=\"1\" class=\"dataframe\">\n",
       "  <thead>\n",
       "    <tr style=\"text-align: right;\">\n",
       "      <th></th>\n",
       "      <th>Book-Title</th>\n",
       "      <th>Total-Ratings</th>\n",
       "      <th>Average Rating</th>\n",
       "      <th>score</th>\n",
       "    </tr>\n",
       "  </thead>\n",
       "  <tbody>\n",
       "    <tr>\n",
       "      <th>10</th>\n",
       "      <td>Divine Secrets of the Ya-Ya Sisterhood: A Novel</td>\n",
       "      <td>323</td>\n",
       "      <td>7</td>\n",
       "      <td>7.006215</td>\n",
       "    </tr>\n",
       "  </tbody>\n",
       "</table>\n",
       "</div>"
      ],
      "text/plain": [
       "                                         Book-Title  Total-Ratings  \\\n",
       "10  Divine Secrets of the Ya-Ya Sisterhood: A Novel            323   \n",
       "\n",
       "    Average Rating     score  \n",
       "10               7  7.006215  "
      ]
     },
     "execution_count": 44,
     "metadata": {},
     "output_type": "execute_result"
    }
   ],
   "source": [
    "df1.loc[df1['Book-Title'] == \"Divine Secrets of the Ya-Ya Sisterhood: A Novel\",:]"
   ]
  },
  {
   "cell_type": "code",
   "execution_count": 36,
   "id": "b8f8a37d",
   "metadata": {},
   "outputs": [
    {
     "data": {
      "text/html": [
       "<div>\n",
       "<style scoped>\n",
       "    .dataframe tbody tr th:only-of-type {\n",
       "        vertical-align: middle;\n",
       "    }\n",
       "\n",
       "    .dataframe tbody tr th {\n",
       "        vertical-align: top;\n",
       "    }\n",
       "\n",
       "    .dataframe thead th {\n",
       "        text-align: right;\n",
       "    }\n",
       "</style>\n",
       "<table border=\"1\" class=\"dataframe\">\n",
       "  <thead>\n",
       "    <tr style=\"text-align: right;\">\n",
       "      <th></th>\n",
       "      <th>Book-Title</th>\n",
       "      <th>Total-Ratings</th>\n",
       "      <th>Average Rating</th>\n",
       "      <th>score</th>\n",
       "    </tr>\n",
       "  </thead>\n",
       "  <tbody>\n",
       "    <tr>\n",
       "      <th>10</th>\n",
       "      <td>Divine Secrets of the Ya-Ya Sisterhood: A Novel</td>\n",
       "      <td>323</td>\n",
       "      <td>7</td>\n",
       "      <td>7.006215</td>\n",
       "    </tr>\n",
       "  </tbody>\n",
       "</table>\n",
       "</div>"
      ],
      "text/plain": [
       "                                         Book-Title  Total-Ratings  \\\n",
       "10  Divine Secrets of the Ya-Ya Sisterhood: A Novel            323   \n",
       "\n",
       "    Average Rating     score  \n",
       "10               7  7.006215  "
      ]
     },
     "execution_count": 36,
     "metadata": {},
     "output_type": "execute_result"
    }
   ],
   "source": [
    "df1.loc[df1['Book-Title'] == \"Divine Secrets of the Ya-Ya Sisterhood: A Novel\",:]"
   ]
  },
  {
   "cell_type": "code",
   "execution_count": 37,
   "id": "370a0a3f",
   "metadata": {},
   "outputs": [
    {
     "data": {
      "text/html": [
       "<div>\n",
       "<style scoped>\n",
       "    .dataframe tbody tr th:only-of-type {\n",
       "        vertical-align: middle;\n",
       "    }\n",
       "\n",
       "    .dataframe tbody tr th {\n",
       "        vertical-align: top;\n",
       "    }\n",
       "\n",
       "    .dataframe thead th {\n",
       "        text-align: right;\n",
       "    }\n",
       "</style>\n",
       "<table border=\"1\" class=\"dataframe\">\n",
       "  <thead>\n",
       "    <tr style=\"text-align: right;\">\n",
       "      <th></th>\n",
       "      <th>Book-Title</th>\n",
       "      <th>Total-Ratings</th>\n",
       "      <th>Average Rating</th>\n",
       "      <th>score</th>\n",
       "    </tr>\n",
       "  </thead>\n",
       "  <tbody>\n",
       "    <tr>\n",
       "      <th>14</th>\n",
       "      <td>Where the Heart Is (Oprah's Book Club (Paperba...</td>\n",
       "      <td>295</td>\n",
       "      <td>8</td>\n",
       "      <td>7.990128</td>\n",
       "    </tr>\n",
       "  </tbody>\n",
       "</table>\n",
       "</div>"
      ],
      "text/plain": [
       "                                           Book-Title  Total-Ratings  \\\n",
       "14  Where the Heart Is (Oprah's Book Club (Paperba...            295   \n",
       "\n",
       "    Average Rating     score  \n",
       "14               8  7.990128  "
      ]
     },
     "execution_count": 37,
     "metadata": {},
     "output_type": "execute_result"
    }
   ],
   "source": [
    "df1.loc[df1['Book-Title'] == \"Where the Heart Is (Oprah's Book Club (Paperback))\",:]"
   ]
  },
  {
   "cell_type": "code",
   "execution_count": 39,
   "id": "e14d2ddd",
   "metadata": {},
   "outputs": [
    {
     "data": {
      "text/html": [
       "<div>\n",
       "<style scoped>\n",
       "    .dataframe tbody tr th:only-of-type {\n",
       "        vertical-align: middle;\n",
       "    }\n",
       "\n",
       "    .dataframe tbody tr th {\n",
       "        vertical-align: top;\n",
       "    }\n",
       "\n",
       "    .dataframe thead th {\n",
       "        text-align: right;\n",
       "    }\n",
       "</style>\n",
       "<table border=\"1\" class=\"dataframe\">\n",
       "  <thead>\n",
       "    <tr style=\"text-align: right;\">\n",
       "      <th></th>\n",
       "      <th>Book-Title</th>\n",
       "      <th>Total-Ratings</th>\n",
       "      <th>Average Rating</th>\n",
       "      <th>score</th>\n",
       "    </tr>\n",
       "  </thead>\n",
       "  <tbody>\n",
       "    <tr>\n",
       "      <th>12</th>\n",
       "      <td>Angels &amp;amp; Demons</td>\n",
       "      <td>310</td>\n",
       "      <td>8</td>\n",
       "      <td>7.990598</td>\n",
       "    </tr>\n",
       "  </tbody>\n",
       "</table>\n",
       "</div>"
      ],
      "text/plain": [
       "             Book-Title  Total-Ratings  Average Rating     score\n",
       "12  Angels &amp; Demons            310               8  7.990598"
      ]
     },
     "execution_count": 39,
     "metadata": {},
     "output_type": "execute_result"
    }
   ],
   "source": [
    "df1.loc[df1['Book-Title'] == \"Angels &amp; Demons\",:]"
   ]
  },
  {
   "cell_type": "code",
   "execution_count": 40,
   "id": "4644e9fb",
   "metadata": {},
   "outputs": [
    {
     "data": {
      "text/html": [
       "<div>\n",
       "<style scoped>\n",
       "    .dataframe tbody tr th:only-of-type {\n",
       "        vertical-align: middle;\n",
       "    }\n",
       "\n",
       "    .dataframe tbody tr th {\n",
       "        vertical-align: top;\n",
       "    }\n",
       "\n",
       "    .dataframe thead th {\n",
       "        text-align: right;\n",
       "    }\n",
       "</style>\n",
       "<table border=\"1\" class=\"dataframe\">\n",
       "  <thead>\n",
       "    <tr style=\"text-align: right;\">\n",
       "      <th></th>\n",
       "      <th>Book-Title</th>\n",
       "      <th>Total-Ratings</th>\n",
       "      <th>Average Rating</th>\n",
       "      <th>score</th>\n",
       "    </tr>\n",
       "  </thead>\n",
       "  <tbody>\n",
       "    <tr>\n",
       "      <th>16</th>\n",
       "      <td>Girl with a Pearl Earring</td>\n",
       "      <td>278</td>\n",
       "      <td>7</td>\n",
       "      <td>7.007203</td>\n",
       "    </tr>\n",
       "  </tbody>\n",
       "</table>\n",
       "</div>"
      ],
      "text/plain": [
       "                   Book-Title  Total-Ratings  Average Rating     score\n",
       "16  Girl with a Pearl Earring            278               7  7.007203"
      ]
     },
     "execution_count": 40,
     "metadata": {},
     "output_type": "execute_result"
    }
   ],
   "source": [
    "df1.loc[df1['Book-Title'] == \"Girl with a Pearl Earring\",:]"
   ]
  },
  {
   "cell_type": "code",
   "execution_count": 41,
   "id": "5d81dd3d",
   "metadata": {},
   "outputs": [
    {
     "data": {
      "text/html": [
       "<div>\n",
       "<style scoped>\n",
       "    .dataframe tbody tr th:only-of-type {\n",
       "        vertical-align: middle;\n",
       "    }\n",
       "\n",
       "    .dataframe tbody tr th {\n",
       "        vertical-align: top;\n",
       "    }\n",
       "\n",
       "    .dataframe thead th {\n",
       "        text-align: right;\n",
       "    }\n",
       "</style>\n",
       "<table border=\"1\" class=\"dataframe\">\n",
       "  <thead>\n",
       "    <tr style=\"text-align: right;\">\n",
       "      <th></th>\n",
       "      <th>Book-Title</th>\n",
       "      <th>Total-Ratings</th>\n",
       "      <th>Average Rating</th>\n",
       "      <th>score</th>\n",
       "    </tr>\n",
       "  </thead>\n",
       "  <tbody>\n",
       "    <tr>\n",
       "      <th>20</th>\n",
       "      <td>To Kill a Mockingbird</td>\n",
       "      <td>267</td>\n",
       "      <td>8</td>\n",
       "      <td>7.989112</td>\n",
       "    </tr>\n",
       "  </tbody>\n",
       "</table>\n",
       "</div>"
      ],
      "text/plain": [
       "               Book-Title  Total-Ratings  Average Rating     score\n",
       "20  To Kill a Mockingbird            267               8  7.989112"
      ]
     },
     "execution_count": 41,
     "metadata": {},
     "output_type": "execute_result"
    }
   ],
   "source": [
    "df1.loc[df1['Book-Title'] == \"To Kill a Mockingbird\",:]"
   ]
  },
  {
   "cell_type": "code",
   "execution_count": 42,
   "id": "0cbb5c1c",
   "metadata": {},
   "outputs": [
    {
     "data": {
      "text/html": [
       "<div>\n",
       "<style scoped>\n",
       "    .dataframe tbody tr th:only-of-type {\n",
       "        vertical-align: middle;\n",
       "    }\n",
       "\n",
       "    .dataframe tbody tr th {\n",
       "        vertical-align: top;\n",
       "    }\n",
       "\n",
       "    .dataframe thead th {\n",
       "        text-align: right;\n",
       "    }\n",
       "</style>\n",
       "<table border=\"1\" class=\"dataframe\">\n",
       "  <thead>\n",
       "    <tr style=\"text-align: right;\">\n",
       "      <th></th>\n",
       "      <th>Book-Title</th>\n",
       "      <th>Total-Ratings</th>\n",
       "      <th>Average Rating</th>\n",
       "      <th>score</th>\n",
       "    </tr>\n",
       "  </thead>\n",
       "  <tbody>\n",
       "    <tr>\n",
       "      <th>42</th>\n",
       "      <td>Harry Potter and the Order of the Phoenix (Boo...</td>\n",
       "      <td>211</td>\n",
       "      <td>9</td>\n",
       "      <td>8.963141</td>\n",
       "    </tr>\n",
       "  </tbody>\n",
       "</table>\n",
       "</div>"
      ],
      "text/plain": [
       "                                           Book-Title  Total-Ratings  \\\n",
       "42  Harry Potter and the Order of the Phoenix (Boo...            211   \n",
       "\n",
       "    Average Rating     score  \n",
       "42               9  8.963141  "
      ]
     },
     "execution_count": 42,
     "metadata": {},
     "output_type": "execute_result"
    }
   ],
   "source": [
    "df1.loc[df1['Book-Title'] == \"Harry Potter and the Order of the Phoenix (Book 5)\",:]"
   ]
  },
  {
   "cell_type": "code",
   "execution_count": 43,
   "id": "d1f37e28",
   "metadata": {},
   "outputs": [
    {
     "data": {
      "text/html": [
       "<div>\n",
       "<style scoped>\n",
       "    .dataframe tbody tr th:only-of-type {\n",
       "        vertical-align: middle;\n",
       "    }\n",
       "\n",
       "    .dataframe tbody tr th {\n",
       "        vertical-align: top;\n",
       "    }\n",
       "\n",
       "    .dataframe thead th {\n",
       "        text-align: right;\n",
       "    }\n",
       "</style>\n",
       "<table border=\"1\" class=\"dataframe\">\n",
       "  <thead>\n",
       "    <tr style=\"text-align: right;\">\n",
       "      <th></th>\n",
       "      <th>Book-Title</th>\n",
       "      <th>Total-Ratings</th>\n",
       "      <th>Average Rating</th>\n",
       "      <th>score</th>\n",
       "    </tr>\n",
       "  </thead>\n",
       "  <tbody>\n",
       "    <tr>\n",
       "      <th>18</th>\n",
       "      <td>Snow Falling on Cedars</td>\n",
       "      <td>275</td>\n",
       "      <td>7</td>\n",
       "      <td>7.00728</td>\n",
       "    </tr>\n",
       "  </tbody>\n",
       "</table>\n",
       "</div>"
      ],
      "text/plain": [
       "                Book-Title  Total-Ratings  Average Rating    score\n",
       "18  Snow Falling on Cedars            275               7  7.00728"
      ]
     },
     "execution_count": 43,
     "metadata": {},
     "output_type": "execute_result"
    }
   ],
   "source": [
    "df1.loc[df1['Book-Title'] == \"Snow Falling on Cedars\",:]"
   ]
  },
  {
   "cell_type": "code",
   "execution_count": 44,
   "id": "88043bf3",
   "metadata": {},
   "outputs": [
    {
     "data": {
      "text/html": [
       "<div>\n",
       "<style scoped>\n",
       "    .dataframe tbody tr th:only-of-type {\n",
       "        vertical-align: middle;\n",
       "    }\n",
       "\n",
       "    .dataframe tbody tr th {\n",
       "        vertical-align: top;\n",
       "    }\n",
       "\n",
       "    .dataframe thead th {\n",
       "        text-align: right;\n",
       "    }\n",
       "</style>\n",
       "<table border=\"1\" class=\"dataframe\">\n",
       "  <thead>\n",
       "    <tr style=\"text-align: right;\">\n",
       "      <th></th>\n",
       "      <th>Book-Title</th>\n",
       "      <th>Total-Ratings</th>\n",
       "      <th>Average Rating</th>\n",
       "      <th>score</th>\n",
       "    </tr>\n",
       "  </thead>\n",
       "  <tbody>\n",
       "    <tr>\n",
       "      <th>7</th>\n",
       "      <td>A Painted House</td>\n",
       "      <td>366</td>\n",
       "      <td>7</td>\n",
       "      <td>7.005495</td>\n",
       "    </tr>\n",
       "  </tbody>\n",
       "</table>\n",
       "</div>"
      ],
      "text/plain": [
       "        Book-Title  Total-Ratings  Average Rating     score\n",
       "7  A Painted House            366               7  7.005495"
      ]
     },
     "execution_count": 44,
     "metadata": {},
     "output_type": "execute_result"
    }
   ],
   "source": [
    "df1.loc[df1['Book-Title'] == \"A Painted House\",:]"
   ]
  },
  {
   "cell_type": "code",
   "execution_count": 45,
   "id": "f340e991",
   "metadata": {},
   "outputs": [
    {
     "data": {
      "text/html": [
       "<div>\n",
       "<style scoped>\n",
       "    .dataframe tbody tr th:only-of-type {\n",
       "        vertical-align: middle;\n",
       "    }\n",
       "\n",
       "    .dataframe tbody tr th {\n",
       "        vertical-align: top;\n",
       "    }\n",
       "\n",
       "    .dataframe thead th {\n",
       "        text-align: right;\n",
       "    }\n",
       "</style>\n",
       "<table border=\"1\" class=\"dataframe\">\n",
       "  <thead>\n",
       "    <tr style=\"text-align: right;\">\n",
       "      <th></th>\n",
       "      <th>Book-Title</th>\n",
       "      <th>Total-Ratings</th>\n",
       "      <th>Average Rating</th>\n",
       "      <th>score</th>\n",
       "    </tr>\n",
       "  </thead>\n",
       "  <tbody>\n",
       "    <tr>\n",
       "      <th>19</th>\n",
       "      <td>The Pilot's Wife : A Novel</td>\n",
       "      <td>272</td>\n",
       "      <td>7</td>\n",
       "      <td>7.007359</td>\n",
       "    </tr>\n",
       "  </tbody>\n",
       "</table>\n",
       "</div>"
      ],
      "text/plain": [
       "                    Book-Title  Total-Ratings  Average Rating     score\n",
       "19  The Pilot's Wife : A Novel            272               7  7.007359"
      ]
     },
     "execution_count": 45,
     "metadata": {},
     "output_type": "execute_result"
    }
   ],
   "source": [
    "df1.loc[df1['Book-Title'] == \"The Pilot's Wife : A Novel\",:]"
   ]
  },
  {
   "cell_type": "code",
   "execution_count": 46,
   "id": "4e6ba6c6",
   "metadata": {},
   "outputs": [
    {
     "data": {
      "text/html": [
       "<div>\n",
       "<style scoped>\n",
       "    .dataframe tbody tr th:only-of-type {\n",
       "        vertical-align: middle;\n",
       "    }\n",
       "\n",
       "    .dataframe tbody tr th {\n",
       "        vertical-align: top;\n",
       "    }\n",
       "\n",
       "    .dataframe thead th {\n",
       "        text-align: right;\n",
       "    }\n",
       "</style>\n",
       "<table border=\"1\" class=\"dataframe\">\n",
       "  <thead>\n",
       "    <tr style=\"text-align: right;\">\n",
       "      <th></th>\n",
       "      <th>Book-Title</th>\n",
       "      <th>Total-Ratings</th>\n",
       "      <th>Average Rating</th>\n",
       "      <th>score</th>\n",
       "    </tr>\n",
       "  </thead>\n",
       "  <tbody>\n",
       "    <tr>\n",
       "      <th>29</th>\n",
       "      <td>The Five People You Meet in Heaven</td>\n",
       "      <td>244</td>\n",
       "      <td>8</td>\n",
       "      <td>7.988106</td>\n",
       "    </tr>\n",
       "  </tbody>\n",
       "</table>\n",
       "</div>"
      ],
      "text/plain": [
       "                            Book-Title  Total-Ratings  Average Rating  \\\n",
       "29  The Five People You Meet in Heaven            244               8   \n",
       "\n",
       "       score  \n",
       "29  7.988106  "
      ]
     },
     "execution_count": 46,
     "metadata": {},
     "output_type": "execute_result"
    }
   ],
   "source": [
    "df1.loc[df1['Book-Title'] == \"The Five People You Meet in Heaven\",:]"
   ]
  },
  {
   "cell_type": "code",
   "execution_count": 47,
   "id": "a0fcb3fc",
   "metadata": {},
   "outputs": [
    {
     "data": {
      "text/html": [
       "<div>\n",
       "<style scoped>\n",
       "    .dataframe tbody tr th:only-of-type {\n",
       "        vertical-align: middle;\n",
       "    }\n",
       "\n",
       "    .dataframe tbody tr th {\n",
       "        vertical-align: top;\n",
       "    }\n",
       "\n",
       "    .dataframe thead th {\n",
       "        text-align: right;\n",
       "    }\n",
       "</style>\n",
       "<table border=\"1\" class=\"dataframe\">\n",
       "  <thead>\n",
       "    <tr style=\"text-align: right;\">\n",
       "      <th></th>\n",
       "      <th>Book-Title</th>\n",
       "      <th>Total-Ratings</th>\n",
       "      <th>Average Rating</th>\n",
       "      <th>score</th>\n",
       "    </tr>\n",
       "  </thead>\n",
       "  <tbody>\n",
       "    <tr>\n",
       "      <th>21</th>\n",
       "      <td>The Catcher in the Rye</td>\n",
       "      <td>265</td>\n",
       "      <td>7</td>\n",
       "      <td>7.00755</td>\n",
       "    </tr>\n",
       "  </tbody>\n",
       "</table>\n",
       "</div>"
      ],
      "text/plain": [
       "                Book-Title  Total-Ratings  Average Rating    score\n",
       "21  The Catcher in the Rye            265               7  7.00755"
      ]
     },
     "execution_count": 47,
     "metadata": {},
     "output_type": "execute_result"
    }
   ],
   "source": [
    "df1.loc[df1['Book-Title'] == \"The Catcher in the Rye\",:]"
   ]
  },
  {
   "cell_type": "code",
   "execution_count": 48,
   "id": "b0617868",
   "metadata": {},
   "outputs": [
    {
     "data": {
      "text/html": [
       "<div>\n",
       "<style scoped>\n",
       "    .dataframe tbody tr th:only-of-type {\n",
       "        vertical-align: middle;\n",
       "    }\n",
       "\n",
       "    .dataframe tbody tr th {\n",
       "        vertical-align: top;\n",
       "    }\n",
       "\n",
       "    .dataframe thead th {\n",
       "        text-align: right;\n",
       "    }\n",
       "</style>\n",
       "<table border=\"1\" class=\"dataframe\">\n",
       "  <thead>\n",
       "    <tr style=\"text-align: right;\">\n",
       "      <th></th>\n",
       "      <th>Book-Title</th>\n",
       "      <th>Total-Ratings</th>\n",
       "      <th>Average Rating</th>\n",
       "      <th>score</th>\n",
       "    </tr>\n",
       "  </thead>\n",
       "  <tbody>\n",
       "    <tr>\n",
       "      <th>8</th>\n",
       "      <td>Life of Pi</td>\n",
       "      <td>337</td>\n",
       "      <td>8</td>\n",
       "      <td>7.991341</td>\n",
       "    </tr>\n",
       "  </tbody>\n",
       "</table>\n",
       "</div>"
      ],
      "text/plain": [
       "   Book-Title  Total-Ratings  Average Rating     score\n",
       "8  Life of Pi            337               8  7.991341"
      ]
     },
     "execution_count": 48,
     "metadata": {},
     "output_type": "execute_result"
    }
   ],
   "source": [
    "df1.loc[df1['Book-Title'] == \"Life of Pi\",:]"
   ]
  },
  {
   "cell_type": "code",
   "execution_count": 49,
   "id": "0b0907eb",
   "metadata": {},
   "outputs": [
    {
     "data": {
      "text/html": [
       "<div>\n",
       "<style scoped>\n",
       "    .dataframe tbody tr th:only-of-type {\n",
       "        vertical-align: middle;\n",
       "    }\n",
       "\n",
       "    .dataframe tbody tr th {\n",
       "        vertical-align: top;\n",
       "    }\n",
       "\n",
       "    .dataframe thead th {\n",
       "        text-align: right;\n",
       "    }\n",
       "</style>\n",
       "<table border=\"1\" class=\"dataframe\">\n",
       "  <thead>\n",
       "    <tr style=\"text-align: right;\">\n",
       "      <th></th>\n",
       "      <th>Book-Title</th>\n",
       "      <th>Total-Ratings</th>\n",
       "      <th>Average Rating</th>\n",
       "      <th>score</th>\n",
       "    </tr>\n",
       "  </thead>\n",
       "  <tbody>\n",
       "    <tr>\n",
       "      <th>35</th>\n",
       "      <td>The Poisonwood Bible: A Novel</td>\n",
       "      <td>219</td>\n",
       "      <td>8</td>\n",
       "      <td>7.986779</td>\n",
       "    </tr>\n",
       "  </tbody>\n",
       "</table>\n",
       "</div>"
      ],
      "text/plain": [
       "                       Book-Title  Total-Ratings  Average Rating     score\n",
       "35  The Poisonwood Bible: A Novel            219               8  7.986779"
      ]
     },
     "execution_count": 49,
     "metadata": {},
     "output_type": "execute_result"
    }
   ],
   "source": [
    "df1.loc[df1['Book-Title'] == \"The Poisonwood Bible: A Novel\",:]"
   ]
  },
  {
   "cell_type": "code",
   "execution_count": 50,
   "id": "073534f2",
   "metadata": {},
   "outputs": [
    {
     "data": {
      "text/html": [
       "<div>\n",
       "<style scoped>\n",
       "    .dataframe tbody tr th:only-of-type {\n",
       "        vertical-align: middle;\n",
       "    }\n",
       "\n",
       "    .dataframe tbody tr th {\n",
       "        vertical-align: top;\n",
       "    }\n",
       "\n",
       "    .dataframe thead th {\n",
       "        text-align: right;\n",
       "    }\n",
       "</style>\n",
       "<table border=\"1\" class=\"dataframe\">\n",
       "  <thead>\n",
       "    <tr style=\"text-align: right;\">\n",
       "      <th></th>\n",
       "      <th>Book-Title</th>\n",
       "      <th>Total-Ratings</th>\n",
       "      <th>Average Rating</th>\n",
       "      <th>score</th>\n",
       "    </tr>\n",
       "  </thead>\n",
       "  <tbody>\n",
       "    <tr>\n",
       "      <th>26</th>\n",
       "      <td>Tuesdays with Morrie: An Old Man, a Young Man,...</td>\n",
       "      <td>250</td>\n",
       "      <td>8</td>\n",
       "      <td>7.988386</td>\n",
       "    </tr>\n",
       "  </tbody>\n",
       "</table>\n",
       "</div>"
      ],
      "text/plain": [
       "                                           Book-Title  Total-Ratings  \\\n",
       "26  Tuesdays with Morrie: An Old Man, a Young Man,...            250   \n",
       "\n",
       "    Average Rating     score  \n",
       "26               8  7.988386  "
      ]
     },
     "execution_count": 50,
     "metadata": {},
     "output_type": "execute_result"
    }
   ],
   "source": [
    "df1.loc[df1['Book-Title'] == \"Tuesdays with Morrie: An Old Man, a Young Man, and Life's Greatest Lesson\",:]"
   ]
  },
  {
   "cell_type": "code",
   "execution_count": 51,
   "id": "d95429dd",
   "metadata": {},
   "outputs": [
    {
     "data": {
      "text/html": [
       "<div>\n",
       "<style scoped>\n",
       "    .dataframe tbody tr th:only-of-type {\n",
       "        vertical-align: middle;\n",
       "    }\n",
       "\n",
       "    .dataframe tbody tr th {\n",
       "        vertical-align: top;\n",
       "    }\n",
       "\n",
       "    .dataframe thead th {\n",
       "        text-align: right;\n",
       "    }\n",
       "</style>\n",
       "<table border=\"1\" class=\"dataframe\">\n",
       "  <thead>\n",
       "    <tr style=\"text-align: right;\">\n",
       "      <th></th>\n",
       "      <th>Book-Title</th>\n",
       "      <th>Total-Ratings</th>\n",
       "      <th>Average Rating</th>\n",
       "      <th>score</th>\n",
       "    </tr>\n",
       "  </thead>\n",
       "  <tbody>\n",
       "    <tr>\n",
       "      <th>27</th>\n",
       "      <td>Good in Bed</td>\n",
       "      <td>247</td>\n",
       "      <td>8</td>\n",
       "      <td>7.988248</td>\n",
       "    </tr>\n",
       "  </tbody>\n",
       "</table>\n",
       "</div>"
      ],
      "text/plain": [
       "     Book-Title  Total-Ratings  Average Rating     score\n",
       "27  Good in Bed            247               8  7.988248"
      ]
     },
     "execution_count": 51,
     "metadata": {},
     "output_type": "execute_result"
    }
   ],
   "source": [
    "df1.loc[df1['Book-Title'] == \"Good in Bed\",:]"
   ]
  },
  {
   "cell_type": "code",
   "execution_count": 52,
   "id": "383d8f18",
   "metadata": {},
   "outputs": [
    {
     "data": {
      "text/html": [
       "<div>\n",
       "<style scoped>\n",
       "    .dataframe tbody tr th:only-of-type {\n",
       "        vertical-align: middle;\n",
       "    }\n",
       "\n",
       "    .dataframe tbody tr th {\n",
       "        vertical-align: top;\n",
       "    }\n",
       "\n",
       "    .dataframe thead th {\n",
       "        text-align: right;\n",
       "    }\n",
       "</style>\n",
       "<table border=\"1\" class=\"dataframe\">\n",
       "  <thead>\n",
       "    <tr style=\"text-align: right;\">\n",
       "      <th></th>\n",
       "      <th>Book-Title</th>\n",
       "      <th>Total-Ratings</th>\n",
       "      <th>Average Rating</th>\n",
       "      <th>score</th>\n",
       "    </tr>\n",
       "  </thead>\n",
       "  <tbody>\n",
       "    <tr>\n",
       "      <th>9</th>\n",
       "      <td>Harry Potter and the Chamber of Secrets (Book 2)</td>\n",
       "      <td>326</td>\n",
       "      <td>8</td>\n",
       "      <td>7.991053</td>\n",
       "    </tr>\n",
       "  </tbody>\n",
       "</table>\n",
       "</div>"
      ],
      "text/plain": [
       "                                         Book-Title  Total-Ratings  \\\n",
       "9  Harry Potter and the Chamber of Secrets (Book 2)            326   \n",
       "\n",
       "   Average Rating     score  \n",
       "9               8  7.991053  "
      ]
     },
     "execution_count": 52,
     "metadata": {},
     "output_type": "execute_result"
    }
   ],
   "source": [
    "df1.loc[df1['Book-Title'] == \"Harry Potter and the Chamber of Secrets (Book 2)\",:]"
   ]
  },
  {
   "cell_type": "code",
   "execution_count": 53,
   "id": "1e8c8d8e",
   "metadata": {},
   "outputs": [
    {
     "data": {
      "text/html": [
       "<div>\n",
       "<style scoped>\n",
       "    .dataframe tbody tr th:only-of-type {\n",
       "        vertical-align: middle;\n",
       "    }\n",
       "\n",
       "    .dataframe tbody tr th {\n",
       "        vertical-align: top;\n",
       "    }\n",
       "\n",
       "    .dataframe thead th {\n",
       "        text-align: right;\n",
       "    }\n",
       "</style>\n",
       "<table border=\"1\" class=\"dataframe\">\n",
       "  <thead>\n",
       "    <tr style=\"text-align: right;\">\n",
       "      <th></th>\n",
       "      <th>Book-Title</th>\n",
       "      <th>Total-Ratings</th>\n",
       "      <th>Average Rating</th>\n",
       "      <th>score</th>\n",
       "    </tr>\n",
       "  </thead>\n",
       "  <tbody>\n",
       "    <tr>\n",
       "      <th>1</th>\n",
       "      <td>Wild Animus</td>\n",
       "      <td>581</td>\n",
       "      <td>4</td>\n",
       "      <td>4.029076</td>\n",
       "    </tr>\n",
       "  </tbody>\n",
       "</table>\n",
       "</div>"
      ],
      "text/plain": [
       "    Book-Title  Total-Ratings  Average Rating     score\n",
       "1  Wild Animus            581               4  4.029076"
      ]
     },
     "execution_count": 53,
     "metadata": {},
     "output_type": "execute_result"
    }
   ],
   "source": [
    "df1.loc[df1['Book-Title'] == \"Wild Animus\",:]"
   ]
  },
  {
   "cell_type": "code",
   "execution_count": 54,
   "id": "499fdb81",
   "metadata": {},
   "outputs": [
    {
     "data": {
      "text/html": [
       "<div>\n",
       "<style scoped>\n",
       "    .dataframe tbody tr th:only-of-type {\n",
       "        vertical-align: middle;\n",
       "    }\n",
       "\n",
       "    .dataframe tbody tr th {\n",
       "        vertical-align: top;\n",
       "    }\n",
       "\n",
       "    .dataframe thead th {\n",
       "        text-align: right;\n",
       "    }\n",
       "</style>\n",
       "<table border=\"1\" class=\"dataframe\">\n",
       "  <thead>\n",
       "    <tr style=\"text-align: right;\">\n",
       "      <th></th>\n",
       "      <th>Book-Title</th>\n",
       "      <th>Total-Ratings</th>\n",
       "      <th>Average Rating</th>\n",
       "      <th>score</th>\n",
       "    </tr>\n",
       "  </thead>\n",
       "  <tbody>\n",
       "    <tr>\n",
       "      <th>32</th>\n",
       "      <td>Interview with the Vampire</td>\n",
       "      <td>232</td>\n",
       "      <td>7</td>\n",
       "      <td>7.008601</td>\n",
       "    </tr>\n",
       "  </tbody>\n",
       "</table>\n",
       "</div>"
      ],
      "text/plain": [
       "                    Book-Title  Total-Ratings  Average Rating     score\n",
       "32  Interview with the Vampire            232               7  7.008601"
      ]
     },
     "execution_count": 54,
     "metadata": {},
     "output_type": "execute_result"
    }
   ],
   "source": [
    "df1.loc[df1['Book-Title'] == \"Interview with the Vampire\",:]"
   ]
  },
  {
   "cell_type": "code",
   "execution_count": 55,
   "id": "7c38adf2",
   "metadata": {},
   "outputs": [
    {
     "data": {
      "text/html": [
       "<div>\n",
       "<style scoped>\n",
       "    .dataframe tbody tr th:only-of-type {\n",
       "        vertical-align: middle;\n",
       "    }\n",
       "\n",
       "    .dataframe tbody tr th {\n",
       "        vertical-align: top;\n",
       "    }\n",
       "\n",
       "    .dataframe thead th {\n",
       "        text-align: right;\n",
       "    }\n",
       "</style>\n",
       "<table border=\"1\" class=\"dataframe\">\n",
       "  <thead>\n",
       "    <tr style=\"text-align: right;\">\n",
       "      <th></th>\n",
       "      <th>Book-Title</th>\n",
       "      <th>Total-Ratings</th>\n",
       "      <th>Average Rating</th>\n",
       "      <th>score</th>\n",
       "    </tr>\n",
       "  </thead>\n",
       "  <tbody>\n",
       "    <tr>\n",
       "      <th>63</th>\n",
       "      <td>A Prayer for Owen Meany</td>\n",
       "      <td>182</td>\n",
       "      <td>8</td>\n",
       "      <td>7.984163</td>\n",
       "    </tr>\n",
       "  </tbody>\n",
       "</table>\n",
       "</div>"
      ],
      "text/plain": [
       "                 Book-Title  Total-Ratings  Average Rating     score\n",
       "63  A Prayer for Owen Meany            182               8  7.984163"
      ]
     },
     "execution_count": 55,
     "metadata": {},
     "output_type": "execute_result"
    }
   ],
   "source": [
    "df1.loc[df1['Book-Title'] == \"A Prayer for Owen Meany\",:]"
   ]
  },
  {
   "cell_type": "code",
   "execution_count": 56,
   "id": "0cc97f6a",
   "metadata": {},
   "outputs": [
    {
     "data": {
      "text/html": [
       "<div>\n",
       "<style scoped>\n",
       "    .dataframe tbody tr th:only-of-type {\n",
       "        vertical-align: middle;\n",
       "    }\n",
       "\n",
       "    .dataframe tbody tr th {\n",
       "        vertical-align: top;\n",
       "    }\n",
       "\n",
       "    .dataframe thead th {\n",
       "        text-align: right;\n",
       "    }\n",
       "</style>\n",
       "<table border=\"1\" class=\"dataframe\">\n",
       "  <thead>\n",
       "    <tr style=\"text-align: right;\">\n",
       "      <th></th>\n",
       "      <th>Book-Title</th>\n",
       "      <th>Total-Ratings</th>\n",
       "      <th>Average Rating</th>\n",
       "      <th>score</th>\n",
       "    </tr>\n",
       "  </thead>\n",
       "  <tbody>\n",
       "    <tr>\n",
       "      <th>37</th>\n",
       "      <td>She's Come Undone (Oprah's Book Club)</td>\n",
       "      <td>217</td>\n",
       "      <td>7</td>\n",
       "      <td>7.009182</td>\n",
       "    </tr>\n",
       "  </tbody>\n",
       "</table>\n",
       "</div>"
      ],
      "text/plain": [
       "                               Book-Title  Total-Ratings  Average Rating  \\\n",
       "37  She's Come Undone (Oprah's Book Club)            217               7   \n",
       "\n",
       "       score  \n",
       "37  7.009182  "
      ]
     },
     "execution_count": 56,
     "metadata": {},
     "output_type": "execute_result"
    }
   ],
   "source": [
    "df1.loc[df1['Book-Title'] == \"She's Come Undone (Oprah's Book Club)\",:]"
   ]
  },
  {
   "cell_type": "code",
   "execution_count": 34,
   "id": "e034e235",
   "metadata": {},
   "outputs": [],
   "source": [
    "dataset.rename(columns = {'User-ID':'UserID'}, inplace = True)"
   ]
  },
  {
   "cell_type": "code",
   "execution_count": 35,
   "id": "8299045e",
   "metadata": {},
   "outputs": [
    {
     "data": {
      "text/html": [
       "<div>\n",
       "<style scoped>\n",
       "    .dataframe tbody tr th:only-of-type {\n",
       "        vertical-align: middle;\n",
       "    }\n",
       "\n",
       "    .dataframe tbody tr th {\n",
       "        vertical-align: top;\n",
       "    }\n",
       "\n",
       "    .dataframe thead th {\n",
       "        text-align: right;\n",
       "    }\n",
       "</style>\n",
       "<table border=\"1\" class=\"dataframe\">\n",
       "  <thead>\n",
       "    <tr style=\"text-align: right;\">\n",
       "      <th></th>\n",
       "      <th>ISBN</th>\n",
       "      <th>Book-Title</th>\n",
       "      <th>Book-Author</th>\n",
       "      <th>Year-Of-Publication</th>\n",
       "      <th>Publisher</th>\n",
       "      <th>UserID</th>\n",
       "      <th>Book-Rating</th>\n",
       "      <th>Age</th>\n",
       "    </tr>\n",
       "  </thead>\n",
       "  <tbody>\n",
       "    <tr>\n",
       "      <th>0</th>\n",
       "      <td>0195153448</td>\n",
       "      <td>Classical Mythology</td>\n",
       "      <td>Mark P. O. Morford</td>\n",
       "      <td>2002</td>\n",
       "      <td>Oxford University Press</td>\n",
       "      <td>2</td>\n",
       "      <td>0</td>\n",
       "      <td>18.0</td>\n",
       "    </tr>\n",
       "    <tr>\n",
       "      <th>1</th>\n",
       "      <td>0002005018</td>\n",
       "      <td>Clara Callan</td>\n",
       "      <td>Richard Bruce Wright</td>\n",
       "      <td>2001</td>\n",
       "      <td>HarperFlamingo Canada</td>\n",
       "      <td>8</td>\n",
       "      <td>5</td>\n",
       "      <td>NaN</td>\n",
       "    </tr>\n",
       "    <tr>\n",
       "      <th>2</th>\n",
       "      <td>0060973129</td>\n",
       "      <td>Decision in Normandy</td>\n",
       "      <td>Carlo D'Este</td>\n",
       "      <td>1991</td>\n",
       "      <td>HarperPerennial</td>\n",
       "      <td>8</td>\n",
       "      <td>0</td>\n",
       "      <td>NaN</td>\n",
       "    </tr>\n",
       "    <tr>\n",
       "      <th>3</th>\n",
       "      <td>0374157065</td>\n",
       "      <td>Flu: The Story of the Great Influenza Pandemic...</td>\n",
       "      <td>Gina Bari Kolata</td>\n",
       "      <td>1999</td>\n",
       "      <td>Farrar Straus Giroux</td>\n",
       "      <td>8</td>\n",
       "      <td>0</td>\n",
       "      <td>NaN</td>\n",
       "    </tr>\n",
       "    <tr>\n",
       "      <th>4</th>\n",
       "      <td>0393045218</td>\n",
       "      <td>The Mummies of Urumchi</td>\n",
       "      <td>E. J. W. Barber</td>\n",
       "      <td>1999</td>\n",
       "      <td>W. W. Norton &amp;amp; Company</td>\n",
       "      <td>8</td>\n",
       "      <td>0</td>\n",
       "      <td>NaN</td>\n",
       "    </tr>\n",
       "  </tbody>\n",
       "</table>\n",
       "</div>"
      ],
      "text/plain": [
       "         ISBN                                         Book-Title  \\\n",
       "0  0195153448                                Classical Mythology   \n",
       "1  0002005018                                       Clara Callan   \n",
       "2  0060973129                               Decision in Normandy   \n",
       "3  0374157065  Flu: The Story of the Great Influenza Pandemic...   \n",
       "4  0393045218                             The Mummies of Urumchi   \n",
       "\n",
       "            Book-Author  Year-Of-Publication                   Publisher  \\\n",
       "0    Mark P. O. Morford                 2002     Oxford University Press   \n",
       "1  Richard Bruce Wright                 2001       HarperFlamingo Canada   \n",
       "2          Carlo D'Este                 1991             HarperPerennial   \n",
       "3      Gina Bari Kolata                 1999        Farrar Straus Giroux   \n",
       "4       E. J. W. Barber                 1999  W. W. Norton &amp; Company   \n",
       "\n",
       "   UserID  Book-Rating   Age  \n",
       "0       2            0  18.0  \n",
       "1       8            5   NaN  \n",
       "2       8            0   NaN  \n",
       "3       8            0   NaN  \n",
       "4       8            0   NaN  "
      ]
     },
     "execution_count": 35,
     "metadata": {},
     "output_type": "execute_result"
    }
   ],
   "source": [
    "dataset.head(5)"
   ]
  },
  {
   "cell_type": "code",
   "execution_count": 55,
   "id": "fae2b43f",
   "metadata": {},
   "outputs": [],
   "source": [
    "from sklearn import model_selection\n",
    "train_data, test_data = model_selection.train_test_split(dataset, test_size=0.20)"
   ]
  },
  {
   "cell_type": "code",
   "execution_count": 56,
   "id": "80031058",
   "metadata": {},
   "outputs": [
    {
     "name": "stdout",
     "output_type": "stream",
     "text": [
      "Training set lengths: 825018\n",
      "Testing set lengths: 206255\n",
      "Test set is 20% of the full dataset.\n"
     ]
    }
   ],
   "source": [
    "print(f'Training set lengths: {len(train_data)}')\n",
    "print(f'Testing set lengths: {len(test_data)}')\n",
    "print(f'Test set is {(len(test_data)/(len(train_data)+len(test_data))*100):.0f}% of the full dataset.')"
   ]
  },
  {
   "cell_type": "code",
   "execution_count": 57,
   "id": "04c97df0",
   "metadata": {},
   "outputs": [
    {
     "data": {
      "text/html": [
       "<div>\n",
       "<style scoped>\n",
       "    .dataframe tbody tr th:only-of-type {\n",
       "        vertical-align: middle;\n",
       "    }\n",
       "\n",
       "    .dataframe tbody tr th {\n",
       "        vertical-align: top;\n",
       "    }\n",
       "\n",
       "    .dataframe thead th {\n",
       "        text-align: right;\n",
       "    }\n",
       "</style>\n",
       "<table border=\"1\" class=\"dataframe\">\n",
       "  <thead>\n",
       "    <tr style=\"text-align: right;\">\n",
       "      <th></th>\n",
       "      <th>ISBN</th>\n",
       "      <th>Book-Title</th>\n",
       "      <th>Book-Author</th>\n",
       "      <th>Year-Of-Publication</th>\n",
       "      <th>Publisher</th>\n",
       "      <th>UserID</th>\n",
       "      <th>Book-Rating</th>\n",
       "      <th>Age</th>\n",
       "    </tr>\n",
       "  </thead>\n",
       "  <tbody>\n",
       "    <tr>\n",
       "      <th>196264</th>\n",
       "      <td>8420641227</td>\n",
       "      <td>MisiÃ³n de la universidad y otros ensayos sobr...</td>\n",
       "      <td>JosÃ© Ortega y Gasset</td>\n",
       "      <td>1982</td>\n",
       "      <td>Revista de Occidente en Alianza Editorial</td>\n",
       "      <td>229501</td>\n",
       "      <td>6</td>\n",
       "      <td>20.0</td>\n",
       "    </tr>\n",
       "    <tr>\n",
       "      <th>808738</th>\n",
       "      <td>0140376577</td>\n",
       "      <td>The Doom of the Haunted Opera (John Bellairs)</td>\n",
       "      <td>John Bellairs</td>\n",
       "      <td>1998</td>\n",
       "      <td>Puffin Books</td>\n",
       "      <td>92398</td>\n",
       "      <td>5</td>\n",
       "      <td>NaN</td>\n",
       "    </tr>\n",
       "    <tr>\n",
       "      <th>559466</th>\n",
       "      <td>0140086447</td>\n",
       "      <td>Winter in the Blood (Contemporary American Fic...</td>\n",
       "      <td>James Welch</td>\n",
       "      <td>1992</td>\n",
       "      <td>Penguin Books</td>\n",
       "      <td>101731</td>\n",
       "      <td>8</td>\n",
       "      <td>NaN</td>\n",
       "    </tr>\n",
       "    <tr>\n",
       "      <th>88291</th>\n",
       "      <td>0373711840</td>\n",
       "      <td>A Cowboy At Heart (Harlequin Superromance)</td>\n",
       "      <td>Roz Denny Fox</td>\n",
       "      <td>2004</td>\n",
       "      <td>Harlequin</td>\n",
       "      <td>131046</td>\n",
       "      <td>5</td>\n",
       "      <td>26.0</td>\n",
       "    </tr>\n",
       "    <tr>\n",
       "      <th>717830</th>\n",
       "      <td>0452264871</td>\n",
       "      <td>Flashman and the Redskins</td>\n",
       "      <td>George MacDonald Fraser</td>\n",
       "      <td>1983</td>\n",
       "      <td>Plume Books</td>\n",
       "      <td>160881</td>\n",
       "      <td>9</td>\n",
       "      <td>NaN</td>\n",
       "    </tr>\n",
       "  </tbody>\n",
       "</table>\n",
       "</div>"
      ],
      "text/plain": [
       "              ISBN                                         Book-Title  \\\n",
       "196264  8420641227  MisiÃ³n de la universidad y otros ensayos sobr...   \n",
       "808738  0140376577      The Doom of the Haunted Opera (John Bellairs)   \n",
       "559466  0140086447  Winter in the Blood (Contemporary American Fic...   \n",
       "88291   0373711840         A Cowboy At Heart (Harlequin Superromance)   \n",
       "717830  0452264871                          Flashman and the Redskins   \n",
       "\n",
       "                    Book-Author  Year-Of-Publication  \\\n",
       "196264    JosÃ© Ortega y Gasset                 1982   \n",
       "808738            John Bellairs                 1998   \n",
       "559466              James Welch                 1992   \n",
       "88291             Roz Denny Fox                 2004   \n",
       "717830  George MacDonald Fraser                 1983   \n",
       "\n",
       "                                        Publisher  UserID  Book-Rating   Age  \n",
       "196264  Revista de Occidente en Alianza Editorial  229501            6  20.0  \n",
       "808738                               Puffin Books   92398            5   NaN  \n",
       "559466                              Penguin Books  101731            8   NaN  \n",
       "88291                                   Harlequin  131046            5  26.0  \n",
       "717830                                Plume Books  160881            9   NaN  "
      ]
     },
     "execution_count": 57,
     "metadata": {},
     "output_type": "execute_result"
    }
   ],
   "source": [
    "train_data.head(5)"
   ]
  },
  {
   "cell_type": "code",
   "execution_count": 58,
   "id": "a9b88fd9",
   "metadata": {},
   "outputs": [],
   "source": [
    "# Get int mapping for user_id in train dataset\n",
    "\n",
    "u_unique_train = train_data.UserID.unique()  \n",
    "train_data_user2idx = {o:i for i, o in enumerate(u_unique_train)}\n",
    "\n",
    "# Get int mapping for isbn in train dataset\n",
    "\n",
    "i_unique_train = train_data.ISBN.unique()  \n",
    "train_data_book2idx = {o:i for i, o in enumerate(i_unique_train)}\n",
    "\n",
    "# Get int mapping for user_id in test dataset\n",
    "\n",
    "u_unique_test = test_data.UserID.unique()  \n",
    "test_data_user2idx = {o:i for i, o in enumerate(u_unique_test)}\n",
    "\n",
    "# Get int mapping for isbn in train dataset\n",
    "\n",
    "i_unique_test = test_data.ISBN.unique() \n",
    "test_data_book2idx = {o:i for i, o in enumerate(i_unique_test)}"
   ]
  },
  {
   "cell_type": "code",
   "execution_count": 59,
   "id": "b1a3ebf8",
   "metadata": {},
   "outputs": [
    {
     "data": {
      "text/html": [
       "<div>\n",
       "<style scoped>\n",
       "    .dataframe tbody tr th:only-of-type {\n",
       "        vertical-align: middle;\n",
       "    }\n",
       "\n",
       "    .dataframe tbody tr th {\n",
       "        vertical-align: top;\n",
       "    }\n",
       "\n",
       "    .dataframe thead th {\n",
       "        text-align: right;\n",
       "    }\n",
       "</style>\n",
       "<table border=\"1\" class=\"dataframe\">\n",
       "  <thead>\n",
       "    <tr style=\"text-align: right;\">\n",
       "      <th></th>\n",
       "      <th>ISBN</th>\n",
       "      <th>Book-Title</th>\n",
       "      <th>Book-Author</th>\n",
       "      <th>Year-Of-Publication</th>\n",
       "      <th>Publisher</th>\n",
       "      <th>UserID</th>\n",
       "      <th>Book-Rating</th>\n",
       "      <th>Age</th>\n",
       "    </tr>\n",
       "  </thead>\n",
       "  <tbody>\n",
       "    <tr>\n",
       "      <th>234955</th>\n",
       "      <td>0446353205</td>\n",
       "      <td>The Charm School</td>\n",
       "      <td>Nelson DeMille</td>\n",
       "      <td>1989</td>\n",
       "      <td>Warner Books</td>\n",
       "      <td>55734</td>\n",
       "      <td>0</td>\n",
       "      <td>37.0</td>\n",
       "    </tr>\n",
       "    <tr>\n",
       "      <th>348144</th>\n",
       "      <td>0312315260</td>\n",
       "      <td>I Sleep at Red Lights: A True Story of Life Af...</td>\n",
       "      <td>Bruce Stockler</td>\n",
       "      <td>2003</td>\n",
       "      <td>St. Martin's Press</td>\n",
       "      <td>225763</td>\n",
       "      <td>0</td>\n",
       "      <td>NaN</td>\n",
       "    </tr>\n",
       "    <tr>\n",
       "      <th>164479</th>\n",
       "      <td>0802448232</td>\n",
       "      <td>The Timber Wolf (Sugar Creek Gang)</td>\n",
       "      <td>Paul Hutchins</td>\n",
       "      <td>1965</td>\n",
       "      <td>Moody Pr</td>\n",
       "      <td>136205</td>\n",
       "      <td>0</td>\n",
       "      <td>39.0</td>\n",
       "    </tr>\n",
       "    <tr>\n",
       "      <th>363984</th>\n",
       "      <td>0671014951</td>\n",
       "      <td>Briar Rose</td>\n",
       "      <td>Kimberly Cates</td>\n",
       "      <td>1999</td>\n",
       "      <td>Pocket</td>\n",
       "      <td>246470</td>\n",
       "      <td>0</td>\n",
       "      <td>31.0</td>\n",
       "    </tr>\n",
       "    <tr>\n",
       "      <th>712017</th>\n",
       "      <td>0312855044</td>\n",
       "      <td>Better in the Dark</td>\n",
       "      <td>Chelsea Quinn Yarbro</td>\n",
       "      <td>1993</td>\n",
       "      <td>St Martins Pr</td>\n",
       "      <td>248718</td>\n",
       "      <td>5</td>\n",
       "      <td>43.0</td>\n",
       "    </tr>\n",
       "  </tbody>\n",
       "</table>\n",
       "</div>"
      ],
      "text/plain": [
       "              ISBN                                         Book-Title  \\\n",
       "234955  0446353205                                   The Charm School   \n",
       "348144  0312315260  I Sleep at Red Lights: A True Story of Life Af...   \n",
       "164479  0802448232                 The Timber Wolf (Sugar Creek Gang)   \n",
       "363984  0671014951                                         Briar Rose   \n",
       "712017  0312855044                                 Better in the Dark   \n",
       "\n",
       "                 Book-Author  Year-Of-Publication           Publisher  UserID  \\\n",
       "234955        Nelson DeMille                 1989        Warner Books   55734   \n",
       "348144        Bruce Stockler                 2003  St. Martin's Press  225763   \n",
       "164479         Paul Hutchins                 1965            Moody Pr  136205   \n",
       "363984        Kimberly Cates                 1999              Pocket  246470   \n",
       "712017  Chelsea Quinn Yarbro                 1993       St Martins Pr  248718   \n",
       "\n",
       "        Book-Rating   Age  \n",
       "234955            0  37.0  \n",
       "348144            0   NaN  \n",
       "164479            0  39.0  \n",
       "363984            0  31.0  \n",
       "712017            5  43.0  "
      ]
     },
     "execution_count": 59,
     "metadata": {},
     "output_type": "execute_result"
    }
   ],
   "source": [
    "train_data.head(5)\n",
    "test_data.head(5)"
   ]
  },
  {
   "cell_type": "code",
   "execution_count": 60,
   "id": "7d09fc98",
   "metadata": {},
   "outputs": [],
   "source": [
    "# TRAINING SET\n",
    "train_data['u_unique'] = train_data['UserID'].map(train_data_user2idx)\n",
    "train_data['i_unique'] = train_data['ISBN'].map(train_data_book2idx)\n",
    "\n",
    "# TESTING SET\n",
    "test_data['u_unique'] = test_data['UserID'].map(test_data_user2idx)\n",
    "test_data['i_unique'] = test_data['ISBN'].map(test_data_book2idx)\n",
    "\n",
    "# Convert back to 3-column df\n",
    "train_data = train_data[['u_unique', 'i_unique', 'Book-Rating']]\n",
    "test_data = test_data[['u_unique', 'i_unique', 'Book-Rating']]"
   ]
  },
  {
   "cell_type": "code",
   "execution_count": 61,
   "id": "161eec9b",
   "metadata": {},
   "outputs": [
    {
     "data": {
      "text/html": [
       "<div>\n",
       "<style scoped>\n",
       "    .dataframe tbody tr th:only-of-type {\n",
       "        vertical-align: middle;\n",
       "    }\n",
       "\n",
       "    .dataframe tbody tr th {\n",
       "        vertical-align: top;\n",
       "    }\n",
       "\n",
       "    .dataframe thead th {\n",
       "        text-align: right;\n",
       "    }\n",
       "</style>\n",
       "<table border=\"1\" class=\"dataframe\">\n",
       "  <thead>\n",
       "    <tr style=\"text-align: right;\">\n",
       "      <th></th>\n",
       "      <th>u_unique</th>\n",
       "      <th>i_unique</th>\n",
       "      <th>Book-Rating</th>\n",
       "    </tr>\n",
       "  </thead>\n",
       "  <tbody>\n",
       "    <tr>\n",
       "      <th>687654</th>\n",
       "      <td>1507</td>\n",
       "      <td>20737</td>\n",
       "      <td>0</td>\n",
       "    </tr>\n",
       "    <tr>\n",
       "      <th>488316</th>\n",
       "      <td>5357</td>\n",
       "      <td>316</td>\n",
       "      <td>5</td>\n",
       "    </tr>\n",
       "    <tr>\n",
       "      <th>354134</th>\n",
       "      <td>9224</td>\n",
       "      <td>47704</td>\n",
       "      <td>4</td>\n",
       "    </tr>\n",
       "    <tr>\n",
       "      <th>968819</th>\n",
       "      <td>17318</td>\n",
       "      <td>154869</td>\n",
       "      <td>8</td>\n",
       "    </tr>\n",
       "    <tr>\n",
       "      <th>110708</th>\n",
       "      <td>140</td>\n",
       "      <td>103520</td>\n",
       "      <td>0</td>\n",
       "    </tr>\n",
       "  </tbody>\n",
       "</table>\n",
       "</div>"
      ],
      "text/plain": [
       "        u_unique  i_unique  Book-Rating\n",
       "687654      1507     20737            0\n",
       "488316      5357       316            5\n",
       "354134      9224     47704            4\n",
       "968819     17318    154869            8\n",
       "110708       140    103520            0"
      ]
     },
     "execution_count": 61,
     "metadata": {},
     "output_type": "execute_result"
    }
   ],
   "source": [
    "train_data.sample(5)"
   ]
  },
  {
   "cell_type": "code",
   "execution_count": 80,
   "id": "ee49e10d",
   "metadata": {},
   "outputs": [
    {
     "ename": "MemoryError",
     "evalue": "Unable to allocate 145. GiB for an array with shape (81399, 238488) and data type float64",
     "output_type": "error",
     "traceback": [
      "\u001b[1;31m---------------------------------------------------------------------------\u001b[0m",
      "\u001b[1;31mMemoryError\u001b[0m                               Traceback (most recent call last)",
      "\u001b[1;32mC:\\Users\\SAGAR~1.LAP\\AppData\\Local\\Temp/ipykernel_10132/4004932841.py\u001b[0m in \u001b[0;36m<module>\u001b[1;34m\u001b[0m\n\u001b[0;32m      2\u001b[0m \u001b[0mn_books\u001b[0m \u001b[1;33m=\u001b[0m \u001b[0mtrain_data\u001b[0m\u001b[1;33m[\u001b[0m\u001b[1;34m'i_unique'\u001b[0m\u001b[1;33m]\u001b[0m\u001b[1;33m.\u001b[0m\u001b[0mnunique\u001b[0m\u001b[1;33m(\u001b[0m\u001b[1;33m)\u001b[0m\u001b[1;33m\u001b[0m\u001b[1;33m\u001b[0m\u001b[0m\n\u001b[0;32m      3\u001b[0m \u001b[1;33m\u001b[0m\u001b[0m\n\u001b[1;32m----> 4\u001b[1;33m \u001b[0mtrain_matrix\u001b[0m \u001b[1;33m=\u001b[0m \u001b[0mnp\u001b[0m\u001b[1;33m.\u001b[0m\u001b[0mzeros\u001b[0m\u001b[1;33m(\u001b[0m\u001b[1;33m(\u001b[0m\u001b[0mn_users\u001b[0m\u001b[1;33m,\u001b[0m \u001b[0mn_books\u001b[0m\u001b[1;33m)\u001b[0m\u001b[1;33m)\u001b[0m\u001b[1;33m\u001b[0m\u001b[1;33m\u001b[0m\u001b[0m\n\u001b[0m\u001b[0;32m      5\u001b[0m \u001b[1;33m\u001b[0m\u001b[0m\n\u001b[0;32m      6\u001b[0m \u001b[1;32mfor\u001b[0m \u001b[0mentry\u001b[0m \u001b[1;32min\u001b[0m \u001b[0mtrain_data\u001b[0m\u001b[1;33m.\u001b[0m\u001b[0mitertuples\u001b[0m\u001b[1;33m(\u001b[0m\u001b[1;33m)\u001b[0m\u001b[1;33m:\u001b[0m                  \u001b[1;31m# entry[1] is the user-id, entry[2] is the book-isbn\u001b[0m\u001b[1;33m\u001b[0m\u001b[1;33m\u001b[0m\u001b[0m\n",
      "\u001b[1;31mMemoryError\u001b[0m: Unable to allocate 145. GiB for an array with shape (81399, 238488) and data type float64"
     ]
    }
   ],
   "source": [
    "n_users = train_data['u_unique'].nunique()\n",
    "n_books = train_data['i_unique'].nunique()\n",
    "\n",
    "train_matrix = np.zeros((n_users, n_books))\n",
    "\n",
    "for entry in train_data.itertuples():                  # entry[1] is the user-id, entry[2] is the book-isbn\n",
    "    train_matrix[entry[1]-1, entry[2]-1] = entry[3]    # -1 is to counter 0-based indexing"
   ]
  },
  {
   "cell_type": "code",
   "execution_count": 79,
   "id": "94738176",
   "metadata": {},
   "outputs": [],
   "source": [
    "n_users = test_data['u_unique'].nunique()\n",
    "n_books = test_data['i_unique'].nunique()\n",
    "\n",
    "test_matrix = np.zeros((n_users, n_books))\n",
    "\n",
    "for entry in test_data.itertuples():\n",
    "    test_matrix[entry[1]-1, entry[2]-1] = entry[3] "
   ]
  },
  {
   "cell_type": "code",
   "execution_count": 65,
   "id": "04a437b1",
   "metadata": {},
   "outputs": [],
   "source": [
    "train_matrix_small = train_matrix[:5000, :5000]\n",
    "test_matrix_small = test_matrix[:5000, :5000]\n",
    "\n",
    "from sklearn.metrics.pairwise import pairwise_distances\n",
    "user_similarity = pairwise_distances(train_matrix_small, metric='cosine')\n",
    "item_similarity = pairwise_distances(train_matrix_small.T, metric='cosine') "
   ]
  },
  {
   "cell_type": "code",
   "execution_count": 52,
   "id": "ca6430f4",
   "metadata": {},
   "outputs": [],
   "source": [
    "def predict_books(ratings, similarity, type='user'): # default type is 'user'\n",
    "    if type == 'item':\n",
    "        pred = ratings.dot(similarity) / np.array([np.abs(similarity).sum(axis=1)])\n",
    "    return pred"
   ]
  },
  {
   "cell_type": "code",
   "execution_count": 53,
   "id": "0e435bc7",
   "metadata": {},
   "outputs": [],
   "source": [
    "item_prediction = predict_books(train_matrix_small, item_similarity, type='item')\n",
    "user_prediction = predict_books(train_matrix_small, user_similarity, type='user')"
   ]
  },
  {
   "cell_type": "code",
   "execution_count": 54,
   "id": "23447e51",
   "metadata": {},
   "outputs": [
    {
     "name": "stdout",
     "output_type": "stream",
     "text": [
      "Item-based CF RMSE: 7.972747325138345\n",
      "User-based CF RMSE: 7.971576685166739\n"
     ]
    }
   ],
   "source": [
    "from sklearn.metrics import mean_squared_error\n",
    "from math import sqrt\n",
    "\n",
    "def rmse(prediction, test_matrix):\n",
    "    prediction = prediction[test_matrix.nonzero()].flatten()\n",
    "    test_matrix = test_matrix[test_matrix.nonzero()].flatten()\n",
    "    return sqrt(mean_squared_error(prediction, test_matrix))\n",
    "\n",
    "print(f'Item-based CF RMSE: {rmse(item_prediction, test_matrix_small)}')\n",
    "print(f'User-based CF RMSE: {rmse(user_prediction, test_matrix_small)}')"
   ]
  },
  {
   "cell_type": "code",
   "execution_count": null,
   "id": "fdb1ee12",
   "metadata": {},
   "outputs": [],
   "source": [
    "import matplotlib as mpl\n",
    "import matplotlib.pyplot as plt\n",
    "import numpy as np\n",
    "\n",
    "fig, ax = plt.subplots() \n",
    "ax.plot([5,10,15,20,25], [8.5,8.368,7.72,7.73,7.54]); \n",
    "ax.plot([5,10,15,20,25], [7.9,7.69,7.6553,7.299,7.2424]); \n",
    "ax.set_xlabel('Size of recommended books with different input');\n",
    "ax.set_ylabel('Weighted-Average of ratings');\n",
    "ax.legend();"
   ]
  },
  {
   "cell_type": "code",
   "execution_count": 1,
   "id": "3fa6239d",
   "metadata": {},
   "outputs": [
    {
     "data": {
      "image/png": "[encoded data removed]",
      "text/plain": [
       "<Figure size 432x288 with 1 Axes>"
      ]
     },
     "metadata": {
      "needs_background": "light"
     },
     "output_type": "display_data"
    }
   ],
   "source": [
    "import matplotlib as mpl\n",
    "import matplotlib.pyplot as plt\n",
    "import numpy as np\n",
    "\n",
    "fig, ax = plt.subplots() \n",
    "ax.plot([5,10,15,20,25], [8.5,8.368,7.72,7.73,7.54],label='Cosine'); \n",
    "ax.plot([5,10,15,20,25], [7.9,7.69,7.6553,7.299,7.2424],label='Euclidean'); \n",
    "ax.set_xlabel('Size of recommended books with different input');\n",
    "ax.set_ylabel('Weighted-Average of ratings');\n",
    "ax.legend();"
   ]
  },
  {
   "cell_type": "code",
   "execution_count": null,
   "id": "2bb94e41",
   "metadata": {},
   "outputs": [],
   "source": [
    "from sklearn import model_selection\n",
    "import matplotlib as mpl\n",
    "import matplotlib.pyplot as plt\n",
    "import numpy as np\n",
    "from sklearn.metrics import mean_squared_error\n",
    "from math import sqrt\n",
    "from sklearn.metrics.pairwise import pairwise_distances\n",
    "\n",
    "import pickle\n",
    "import numpy as np\n",
    "import pandas as pd\n",
    "from pandas.api.types import is_numeric_dtype\n",
    "from sklearn.feature_extraction import DictVectorizer\n",
    "from sklearn.metrics.pairwise import cosine_similarity\n",
    "from sklearn.feature_extraction.text import TfidfVectorizer\n",
    "\n",
    "import warnings\n"
   ]
  }
 ],
 "metadata": {
  "kernelspec": {
   "display_name": "Python 3 (ipykernel)",
   "language": "python",
   "name": "python3"
  },
  "language_info": {
   "codemirror_mode": {
    "name": "ipython",
    "version": 3
   },
   "file_extension": ".py",
   "mimetype": "text/x-python",
   "name": "python",
   "nbconvert_exporter": "python",
   "pygments_lexer": "ipython3",
   "version": "3.9.7"
  }
 },
 "nbformat": 4,
 "nbformat_minor": 5
}
